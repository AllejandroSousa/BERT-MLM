{
  "cells": [
    {
      "cell_type": "markdown",
      "metadata": {
        "id": "view-in-github",
        "colab_type": "text"
      },
      "source": [
        "<a href=\"https://colab.research.google.com/github/AllejandroSousa/BERT-MLM/blob/main/examples/nlp/ipynb/masked_language_modeling.ipynb\" target=\"_parent\"><img src=\"https://colab.research.google.com/assets/colab-badge.svg\" alt=\"Open In Colab\"/></a>"
      ]
    },
    {
      "cell_type": "markdown",
      "metadata": {
        "id": "-eGuloiGIF1q"
      },
      "source": [
        "# End-to-end Masked Language Modeling with BERT\n",
        "\n",
        "**Team:** [Allejandro Sousa](https://github.com/AllejandroSousa), [José Samuel](https://github.com/Samuel-IA7), [Vinícius Germano]()<br>\n",
        "**Date created:** 2025/04/03<br>\n",
        "**Last modified:** 2025/04/03<br>\n",
        "**Description:** \"Implement a Masked Language Model (MLM) using BERT and fine-tune it on the Stack Overflow Questions/Answers dataset. Additionally, implement a Markov chain for the same problem and compare the results.\""
      ]
    },
    {
      "cell_type": "markdown",
      "metadata": {
        "id": "C3uB0kYZIF1s"
      },
      "source": [
        "## Introduction\n",
        "\n",
        "Masked Language Modeling is a fill-in-the-blank task,\n",
        "where a model uses the context words surrounding a mask token to try to predict what the\n",
        "masked word should be.\n",
        "\n",
        "For an input that contains one or more mask tokens,\n",
        "the model will generate the most likely substitution for each.\n",
        "\n",
        "Example:\n",
        "\n",
        "- Input: \"SyntaxError: Unexpected [mask].\"\n",
        "- Output: \"SyntaxError: Unexpected token.\"\n",
        "\n",
        "Masked language modeling is a great way to train a language\n",
        "model in a self-supervised setting (without human-annotated labels).\n",
        "Such a model can then be fine-tuned to accomplish various supervised\n",
        "NLP tasks.\n",
        "\n",
        "This example teaches you how to build a BERT model from scratch,\n",
        "train it with the masked language modeling task,\n",
        "and then fine-tune this model on a sentiment classification task.\n",
        "Additionally, we implement a Markov Chain-based approach to perform the same masked language modeling task and subsequent sentiment classification, allowing us to compare the results of these two distinct methods.\n",
        "\n",
        "We will use the Keras `TextVectorization` and `MultiHeadAttention` layers\n",
        "to create a BERT Transformer-Encoder network architecture, while the Markov Chain model leverages probabilistic transitions between words to predict masked tokens and generate features for classification."
      ]
    },
    {
      "cell_type": "code",
      "execution_count": 1,
      "metadata": {
        "id": "qXMeVLr1IF1t"
      },
      "outputs": [],
      "source": [
        "import os  # Importa a biblioteca 'os' para interagir com o sistema operacional, como definir variáveis de ambiente.\n",
        "\n",
        "os.environ[\"KERAS_BACKEND\"] = \"torch\"  # Define o backend do Keras como 'torch' (PyTorch). Isso determina qual biblioteca de baixo nível será usada para cálculos. Outras opções incluem 'jax' ou 'tensorflow'.\n",
        "\n",
        "import keras_hub  # Importa o Keras Hub, uma biblioteca que oferece camadas e modelos pré-construídos, especialmente úteis para tarefas de processamento de linguagem natural (NLP).\n",
        "\n",
        "import keras  # Importa o Keras, uma API de alto nível para criar e treinar modelos de deep learning de forma simplificada.\n",
        "from keras import layers  # Importa o módulo 'layers' do Keras, que contém componentes como camadas densas, embeddings, etc.\n",
        "from keras.layers import TextVectorization  # Importa especificamente a camada 'TextVectorization', usada para converter texto em sequências numéricas.\n",
        "\n",
        "from dataclasses import dataclass  # Importa o decorador 'dataclass' do Python, que facilita a criação de classes para armazenar dados.\n",
        "import pandas as pd  # Importa a biblioteca Pandas, amplamente usada para manipulação de dados em formato tabular.\n",
        "import numpy as np  # Importa o NumPy, essencial para operações numéricas rápidas e eficientes com arrays.\n",
        "import glob  # Importa a biblioteca 'glob' para encontrar arquivos no sistema usando padrões (ex.: '*.csv').\n",
        "import re  # Importa a biblioteca de expressões regulares ('re') para manipulação avançada de strings.\n",
        "from pprint import pprint  # Importa a função 'pprint' para exibir dados de forma estruturada e legível."
      ]
    },
    {
      "cell_type": "markdown",
      "metadata": {
        "id": "7nYeiBrnIF1t"
      },
      "source": [
        "## Set-up Configuration"
      ]
    },
    {
      "cell_type": "code",
      "execution_count": 2,
      "metadata": {
        "id": "SEWWu9wJIF1u"
      },
      "outputs": [],
      "source": [
        "\n",
        "@dataclass\n",
        "class Config:\n",
        "    \"\"\"\n",
        "    Classe de configuração que define hiperparâmetros fixos para o modelo.\n",
        "\n",
        "    Atributos:\n",
        "        MAX_LEN (int): Comprimento máximo das sequências de texto após a vetorização.\n",
        "        BATCH_SIZE (int): Número de amostras processadas por lote durante o treinamento.\n",
        "        LR (float): Taxa de aprendizado (learning rate) usada pelo otimizador.\n",
        "        VOCAB_SIZE (int): Tamanho máximo do vocabulário para a camada de vetorização.\n",
        "        EMBED_DIM (int): Dimensão dos vetores de embedding gerados para cada palavra.\n",
        "        NUM_HEAD (int): Número de cabeças de atenção no modelo BERT, usado no mecanismo de atenção multi-cabeça.\n",
        "        FF_DIM (int): Dimensão da camada feed-forward interna do BERT.\n",
        "        NUM_LAYERS (int): Número de camadas de codificação no modelo BERT.\n",
        "    \"\"\"\n",
        "    MAX_LEN = 256  # Define o comprimento máximo das sequências como 256 tokens.\n",
        "    BATCH_SIZE = 32  # Define o tamanho do lote como 32 amostras.\n",
        "    LR = 0.001  # Define a taxa de aprendizado como 0.001 (um valor comum para iniciar).\n",
        "    VOCAB_SIZE = 30000  # Limita o vocabulário a 30.000 palavras mais frequentes.\n",
        "    EMBED_DIM = 128  # Define a dimensão dos embeddings como 128.\n",
        "    NUM_HEAD = 8  # Configura 8 cabeças de atenção para o BERT.\n",
        "    FF_DIM = 128  # Define a dimensão da camada feed-forward como 128.\n",
        "    NUM_LAYERS = 1  # Usa apenas 1 camada de codificação no BERT.\n",
        "\n",
        "config = Config()  # Cria uma instância da classe Config para acessar os hiperparâmetros ao longo do código."
      ]
    },
    {
      "cell_type": "markdown",
      "metadata": {
        "id": "6yAQh6s4IF1u"
      },
      "source": [
        "## Load the Data\n",
        "\n",
        "First, we will download the Stack Overflow dataset and load it into a Pandas DataFrame.\n",
        "\n",
        "### Important: Kaggle API Setup\n",
        "\n",
        "If you haven't uploaded the `kaggle.json` file to your Colab environment, follow these steps:\n",
        "\n",
        "1. Go to [Kaggle](https://www.kaggle.com).\n",
        "2. Log in to your account (or create one if you don’t have one).\n",
        "3. Navigate to **Settings**.\n",
        "4. Locate the **API** section and click on **Create New Token**.\n",
        "5. A `kaggle.json` file will be downloaded.\n",
        "6. Upload this file to your Colab environment before running the code below.\n",
        "\n",
        "Once the `kaggle.json` file is uploaded, proceed with the code execution.\n"
      ]
    },
    {
      "cell_type": "code",
      "source": [
        "!pip install -q kaggle\n",
        "\n",
        "# Configurar o arquivo kaggle.json (após upload manual)\n",
        "!mkdir -p ~/.kaggle\n",
        "!mv kaggle.json ~/.kaggle/\n",
        "!chmod 600 ~/.kaggle/kaggle.json\n",
        "\n",
        "# Baixar o dataset\n",
        "!kaggle datasets download -d stackoverflow/stacksample\n",
        "\n",
        "# Descompactar\n",
        "!unzip stacksample.zip"
      ],
      "metadata": {
        "id": "BF5yrMx26IGR",
        "colab": {
          "base_uri": "https://localhost:8080/"
        },
        "outputId": "135770f1-baa0-4e6e-f042-79d5524bfeb3"
      },
      "execution_count": 3,
      "outputs": [
        {
          "output_type": "stream",
          "name": "stdout",
          "text": [
            "mv: cannot stat 'kaggle.json': No such file or directory\n",
            "Dataset URL: https://www.kaggle.com/datasets/stackoverflow/stacksample\n",
            "License(s): other\n",
            "stacksample.zip: Skipping, found more recently modified local copy (use --force to force download)\n",
            "Archive:  stacksample.zip\n",
            "replace Answers.csv? [y]es, [n]o, [A]ll, [N]one, [r]ename: "
          ]
        }
      ]
    },
    {
      "cell_type": "code",
      "source": [
        "from sklearn.model_selection import train_test_split\n",
        "\n",
        "# Carregar o dataset (assumindo que você baixou 'Questions.csv' do Kaggle)\n",
        "df = pd.read_csv(\"Questions.csv\", encoding='latin-1')\n",
        "\n",
        "# Filtrar para 200.000 exemplos e criar rótulos binários\n",
        "df = df.sample(n=200000, random_state=42)  # Reduzir para 200.000\n",
        "df[\"sentiment\"] = df[\"Score\"].apply(lambda x: 1 if x >= 1 else 0)  # 1 = positivo, 0 = negativo\n",
        "df[\"review\"] = df[\"Title\"] + \" \" + df[\"Body\"]  # Combinar título e corpo como texto principal\n",
        "\n",
        "# Dividir em treino e teste (50/50 como o IMDB)\n",
        "train_df, test_df = train_test_split(df, test_size=0.5, random_state=42)\n",
        "all_data = pd.concat([train_df, test_df], ignore_index=True)\n",
        "\n",
        "# Verificar o tamanho\n",
        "print(f\"Treino: {len(train_df)}, Teste: {len(test_df)}\")"
      ],
      "metadata": {
        "id": "ypBefeET6QBB",
        "outputId": "7ccb3144-5289-4275-ca66-891e5177e9f2",
        "colab": {
          "base_uri": "https://localhost:8080/"
        }
      },
      "execution_count": 8,
      "outputs": [
        {
          "output_type": "stream",
          "name": "stdout",
          "text": [
            "Treino: 100000, Teste: 100000\n"
          ]
        }
      ]
    },
    {
      "cell_type": "markdown",
      "metadata": {
        "id": "j28t9YhtIF1v"
      },
      "source": [
        "## Dataset preparation\n",
        "\n",
        "We will use the `TextVectorization` layer to vectorize the text into integer token ids.\n",
        "It transforms a batch of strings into either\n",
        "a sequence of token indices (one sample = 1D array of integer token indices, in order)\n",
        "or a dense representation (one sample = 1D array of float values encoding an unordered set of tokens).\n",
        "\n",
        "Below, we define 3 preprocessing functions.\n",
        "\n",
        "1.  The `get_vectorize_layer` function builds the `TextVectorization` layer.\n",
        "2.  The `encode` function encodes raw text into integer token ids.\n",
        "3.  The `get_masked_input_and_labels` function will mask input token ids.\n",
        "It masks 15% of all input tokens in each sequence at random."
      ]
    },
    {
      "cell_type": "code",
      "execution_count": 9,
      "metadata": {
        "id": "h6rqRj5mIF1v"
      },
      "outputs": [],
      "source": [
        "# For data pre-processing and tf.data.Dataset\n",
        "import tensorflow as tf\n",
        "\n",
        "\n",
        "def custom_standardization(input_data):\n",
        "    \"\"\"\n",
        "    Prepara o texto de entrada limpando e uniformizando ele para ser usado em um modelo.\n",
        "\n",
        "    Essa função faz uma limpeza no texto bruto para que ele fique em um formato mais simples e consistente antes de ser transformado em números que o modelo consegue entender. Ela:\n",
        "    - Transforma todas as letras em minúsculas para evitar diferenças entre \"Oi\" e \"oi\".\n",
        "    - Remove a tag HTML '<br />' (que significa quebra de linha) e coloca um espaço no lugar.\n",
        "    - Tira todos os sinais de pontuação e caracteres especiais, deixando só letras, números e espaços.\n",
        "\n",
        "    Args:\n",
        "        input_data (tf.Tensor): O texto bruto que será limpo. É um objeto do TensorFlow que guarda o texto.\n",
        "\n",
        "    Returns:\n",
        "        tf.Tensor: O texto limpo e uniformizado, pronto para ser processado.\n",
        "\n",
        "    Exemplo:\n",
        "        Entrada: \"Olá, Mundo! <br /> Como você está?\"\n",
        "        Saída: \"olá mundo como você está\"\n",
        "    \"\"\"\n",
        "    lowercase = tf.strings.lower(input_data)  # Transforma todo o texto em letras minúsculas para consistência.\n",
        "    stripped_html = tf.strings.regex_replace(lowercase, \"<br />\", \" \")  # Substitui a tag '<br />' por um espaço simples.\n",
        "    cleaned_text = tf.strings.regex_replace(\n",
        "        stripped_html,  # Usa o texto já sem '<br />'.\n",
        "        \"[%s]\" % re.escape(\"!#$%&'()*+,-./:;<=>?@\\^_`{|}~\"),  # Define um padrão com todos os caracteres especiais a remover.\n",
        "        \"\"  # Substitui esses caracteres por nada (remove eles).\n",
        "    )\n",
        "    return cleaned_text  # Retorna o texto limpo e pronto para uso.\n",
        "\n",
        "# Links auxiliares:\n",
        "# - [tf.strings.lower](https://www.tensorflow.org/api_docs/python/tf/strings/lower): Como funciona a conversão para minúsculas.\n",
        "# - [tf.strings.regex_replace](https://www.tensorflow.org/api_docs/python/tf/strings/regex_replace): Explicação sobre substituição com expressões regulares.\n",
        "# - [re.escape](https://docs.python.org/3/library/re.html#re.escape): Como escapar caracteres especiais em padrões.\n",
        "\n",
        "\n",
        "def get_vectorize_layer(texts, vocab_size, max_seq, special_tokens=[\"[MASK]\"]):\n",
        "    \"\"\"\n",
        "    Cria uma ferramenta que transforma textos em sequências de números para o modelo entender.\n",
        "\n",
        "    Essa função faz uma camada especial que pega textos (frases ou palavras) e transforma cada palavra em um número único, como um código. Ela também define um limite de palavras diferentes (vocabulário) e corta ou completa as sequências para terem o mesmo tamanho.\n",
        "\n",
        "    Args:\n",
        "        texts (list): Uma lista de frases ou textos que serão usados para \"ensinar\" quais palavras são importantes.\n",
        "        vocab_size (int): O número máximo de palavras diferentes que o modelo vai reconhecer.\n",
        "        max_seq (int): O tamanho fixo que cada sequência de números vai ter (corta se for maior, completa se for menor).\n",
        "        special_tokens (list, optional): Palavras especiais (como '[MASK]') que terão códigos próprios. Padrão é ['[MASK]'].\n",
        "\n",
        "    Returns:\n",
        "        layers.Layer: Uma camada configurada que pode transformar textos em números.\n",
        "\n",
        "    Exemplo:\n",
        "        texts = [\"olá mundo\", \"olá terra\"]\n",
        "        vocab_size = 5\n",
        "        max_seq = 3\n",
        "        Resultado: Uma camada que transforma \"olá mundo\" em algo como [2, 3, 0].\n",
        "    \"\"\"\n",
        "    vectorize_layer = TextVectorization(  # Cria a camada que vai transformar texto em números.\n",
        "        max_tokens=vocab_size,  # Define o limite de palavras diferentes que ela vai aprender.\n",
        "        output_mode=\"int\",  # Faz a saída ser números inteiros (cada número é uma palavra).\n",
        "        standardize=custom_standardization,  # Usa a função de limpeza que definimos antes.\n",
        "        output_sequence_length=max_seq,  # Garante que todas as sequências tenham esse tamanho fixo.\n",
        "    )\n",
        "    vectorize_layer.adapt(texts)  # \"Treina\" a camada com os textos para ela aprender as palavras mais comuns.\n",
        "    vocab = vectorize_layer.get_vocabulary()  # Pega a lista de palavras que a camada aprendeu.\n",
        "    vocab = vocab[2:vocab_size - len(special_tokens)] + [\"[mask]\"]  # Tira as palavras padrão '[PAD]' e '[UNK]' e adiciona '[mask]'.\n",
        "    vectorize_layer.set_vocabulary(vocab)  # Atualiza a camada com o novo vocabulário que inclui '[mask]'.\n",
        "    return vectorize_layer  # Retorna a camada pronta para transformar textos em números.\n",
        "\n",
        "# Links auxiliares:\n",
        "# - [TextVectorization](https://keras.io/api/layers/preprocessing_layers/text/text_vectorization/): Documentação oficial da camada.\n",
        "# - [Método adapt](https://keras.io/api/layers/preprocessing_layers/text/text_vectorization/#adapt-method): Como a camada aprende o vocabulário.\n",
        "\n",
        "\n",
        "vectorize_layer = get_vectorize_layer(  # Cria uma camada de vetorização chamando a função 'get_vectorize_layer' (assumida como definida em outro lugar).\n",
        "    all_data.review.values.tolist(),  # Passa a lista de textos da coluna 'review' do DataFrame 'all_data' para adaptar o vetorizador ao vocabulário.\n",
        "    config.VOCAB_SIZE,  # Define o tamanho máximo do vocabulário como especificado em 'config' (30.000 palavras).\n",
        "    config.MAX_LEN,  # Define o comprimento máximo das sequências como especificado em 'config' (256 tokens).\n",
        "    special_tokens=[\"[mask]\"],  # Inclui o token especial '[mask]' no vocabulário, usado para tarefas de masked language modeling (MLM).\n",
        ")\n",
        "\n",
        "# Obtém o ID numérico do token '[mask]'. A camada de vetorização converte '[mask]' em um número, que é extraído como um array NumPy e acessado na posição [0][0].\n",
        "mask_token_id = vectorize_layer([\"[mask]\"]).cpu().numpy()[0][0]\n",
        "\n",
        "def encode(texts):\n",
        "    \"\"\"\n",
        "    Transforma uma lista de textos em uma lista de números usando a camada de vetorização.\n",
        "\n",
        "    Essa função pega textos brutos e usa a camada que criamos antes para transformar cada palavra em um número, criando uma matriz de números que o modelo pode usar.\n",
        "\n",
        "    Args:\n",
        "        texts (list): Lista de frases ou textos para transformar em números.\n",
        "\n",
        "    Returns:\n",
        "        np.ndarray: Uma matriz de números (array do NumPy) onde cada linha é um texto transformado.\n",
        "\n",
        "    Exemplo:\n",
        "        texts = [\"olá mundo\"]\n",
        "        Resultado: [[2, 3]] (supondo que 'olá' é 2 e 'mundo' é 3).\n",
        "    \"\"\"\n",
        "    encoded_texts = vectorize_layer(texts)  # Usa a camada de vetorização para transformar os textos em números.\n",
        "    return encoded_texts.cpu().numpy()  # Converte o resultado de um objeto TensorFlow para um array comum do NumPy.\n",
        "\n",
        "# Links auxiliares:\n",
        "# - [NumPy arrays](https://numpy.org/doc/stable/user/absolute_beginners.html): Introdução aos arrays do NumPy.\n",
        "\n",
        "\n",
        "def get_masked_input_and_labels(encoded_texts):\n",
        "    \"\"\"\n",
        "    Prepara os textos numerados para um jogo de adivinhação onde algumas palavras são escondidas.\n",
        "\n",
        "    Essa função cria uma versão dos textos onde algumas palavras são substituídas por '[MASK]' ou outras palavras aleatórias. É como um treino para o modelo aprender a adivinhar palavras faltando.\n",
        "\n",
        "    Args:\n",
        "        encoded_texts (np.ndarray): Matriz de números que representam os textos já transformados.\n",
        "\n",
        "    Returns:\n",
        "        tuple: Três coisas:\n",
        "            - encoded_texts_masked (np.ndarray): Textos com algumas palavras escondidas ou trocadas.\n",
        "            - y_labels (np.ndarray): As palavras originais (o que o modelo deve adivinhar).\n",
        "            - sample_weights (np.ndarray): Pesos que dizem quais palavras importam no treino.\n",
        "\n",
        "    Exemplo:\n",
        "        encoded_texts = [[2, 3, 4]] (olá mundo terra)\n",
        "        Resultado: ([2, 4999, 4], [2, 3, 4], [1, 1, 1]) onde 4999 é '[MASK]'.\n",
        "    \"\"\"\n",
        "    inp_mask = np.random.rand(*encoded_texts.shape) < 0.15  # Cria uma matriz de True/False escolhendo 15% dos números aleatoriamente.\n",
        "    inp_mask[encoded_texts <= 2] = False  # Não esconde números especiais como 0 ('[PAD]') ou 1 ('[UNK]').\n",
        "    labels = -1 * np.ones(encoded_texts.shape, dtype=int)  # Cria uma matriz cheia de -1 (significa \"ignorar\").\n",
        "    labels[inp_mask] = encoded_texts[inp_mask]  # Coloca os números originais onde vamos esconder (para o modelo adivinhar depois).\n",
        "    encoded_texts_masked = np.copy(encoded_texts)  # Faz uma cópia dos textos numerados para modificar.\n",
        "    inp_mask_2mask = inp_mask & (np.random.rand(*encoded_texts.shape) < 0.90)  # Escolhe 90% dos escondidos para virar '[MASK]'.\n",
        "    encoded_texts_masked[inp_mask_2mask] = mask_token_id  # Substitui esses 90% pelo número que representa '[MASK]'.\n",
        "    inp_mask_2random = inp_mask_2mask & (np.random.rand(*encoded_texts.shape) < 1 / 9)  # Escolhe 10% dos '[MASK]' para virar aleatórios.\n",
        "    random_tokens = np.random.randint(3, mask_token_id, inp_mask_2random.sum())  # Gera números aleatórios para substituir.\n",
        "    encoded_texts_masked[inp_mask_2random] = random_tokens  # Coloca esses números aleatórios nos lugares escolhidos.\n",
        "    sample_weights = np.ones(labels.shape)  # Cria uma matriz de 1s (todos os números importam por padrão).\n",
        "    sample_weights[labels == -1] = 0  # Muda para 0 onde não há nada para adivinhar (labels = -1).\n",
        "    y_labels = np.copy(encoded_texts)  # Faz uma cópia dos textos originais como as respostas corretas.\n",
        "    return encoded_texts_masked, y_labels, sample_weights  # Retorna os textos modificados, as respostas e os pesos.\n",
        "\n",
        "# Links auxiliares:\n",
        "# - [np.random.rand](https://numpy.org/doc/stable/reference/random/generated/numpy.random.rand.html): Como gerar números aleatórios.\n",
        "# - [BERT Masking Strategy](https://huggingface.co/docs/transformers/model_doc/bert#bertformaskedlm): Explicação sobre o método de esconder palavras.\n",
        "\n",
        "\n",
        "x_train = encode(train_df.review.values)  # Codifica os textos da coluna 'review' do conjunto de treino usando a função 'encode' (assumida como definida), que aplica o vetorizador.\n",
        "y_train = train_df.sentiment.values  # Extrai os rótulos de sentimento do conjunto de treino como um array.\n",
        "train_classifier_ds = (  # Cria um dataset TensorFlow para o treinamento do classificador.\n",
        "    tf.data.Dataset.from_tensor_slices((x_train, y_train))  # Converte os arrays 'x_train' e 'y_train' em um dataset, dividindo-os em pares (entrada, rótulo).\n",
        "    .shuffle(1000)  # Embaralha os dados com um buffer de 1000 amostras para introduzir aleatoriedade no treinamento.\n",
        "    .batch(config.BATCH_SIZE)  # Agrupa os dados em lotes de tamanho 32 (definido em 'config.BATCH_SIZE').\n",
        ")\n",
        "\n",
        "x_test = encode(test_df.review.values)  # Codifica os textos da coluna 'review' do conjunto de teste.\n",
        "y_test = test_df.sentiment.values  # Extrai os rótulos de sentimento do conjunto de teste.\n",
        "test_classifier_ds = tf.data.Dataset.from_tensor_slices((x_test, y_test)).batch(\n",
        "    config.BATCH_SIZE\n",
        ")  # Cria um dataset de teste a partir de 'x_test' e 'y_test', agrupando em lotes de tamanho 32.\n",
        "\n",
        "test_raw_classifier_ds = test_df  # Armazena o DataFrame bruto de teste ('test_df') para uso posterior em um modelo end-to-end, sem codificação prévia.\n",
        "\n",
        "x_all_review = encode(all_data.review.values)  # Codifica todos os textos da coluna 'review' de 'all_data' para treinar o modelo de linguagem mascarada (MLM).\n",
        "x_masked_train, y_masked_labels, sample_weights = get_masked_input_and_labels(\n",
        "    x_all_review\n",
        ")  # Gera dados para o MLM: 'x_masked_train' (textos com tokens mascarados), 'y_masked_labels' (rótulos dos tokens mascarados), e 'sample_weights' (pesos para a perda).\n",
        "\n",
        "mlm_ds = tf.data.Dataset.from_tensor_slices(  # Cria um dataset TensorFlow para o treinamento do MLM.\n",
        "    (x_masked_train, y_masked_labels, sample_weights)  # Usa os três arrays gerados para formar tuplas de dados.\n",
        ")\n",
        "mlm_ds = mlm_ds.shuffle(1000).batch(config.BATCH_SIZE)  # Embaralha o dataset com um buffer de 1000 e agrupa em lotes de tamanho 32."
      ]
    },
    {
      "cell_type": "markdown",
      "metadata": {
        "id": "3S4msCaxIF1v"
      },
      "source": [
        "## Create BERT model (Pretraining Model) for masked language modeling\n",
        "\n",
        "We will create a BERT-like pretraining model architecture\n",
        "using the `MultiHeadAttention` layer.\n",
        "It will take token ids as inputs (including masked tokens)\n",
        "and it will predict the correct ids for the masked input tokens."
      ]
    },
    {
      "cell_type": "code",
      "execution_count": 10,
      "metadata": {
        "id": "8fCXsRzqIF1w",
        "outputId": "82c0b509-e468-400e-a49c-a1819dcc36f5",
        "colab": {
          "base_uri": "https://localhost:8080/",
          "height": 769
        }
      },
      "outputs": [
        {
          "output_type": "display_data",
          "data": {
            "text/plain": [
              "\u001b[1mModel: \"masked_bert_model\"\u001b[0m\n"
            ],
            "text/html": [
              "<pre style=\"white-space:pre;overflow-x:auto;line-height:normal;font-family:Menlo,'DejaVu Sans Mono',consolas,'Courier New',monospace\"><span style=\"font-weight: bold\">Model: \"masked_bert_model\"</span>\n",
              "</pre>\n"
            ]
          },
          "metadata": {}
        },
        {
          "output_type": "display_data",
          "data": {
            "text/plain": [
              "┏━━━━━━━━━━━━━━━━━━━━━┳━━━━━━━━━━━━━━━━━━━┳━━━━━━━━━━━━┳━━━━━━━━━━━━━━━━━━━┓\n",
              "┃\u001b[1m \u001b[0m\u001b[1mLayer (type)       \u001b[0m\u001b[1m \u001b[0m┃\u001b[1m \u001b[0m\u001b[1mOutput Shape     \u001b[0m\u001b[1m \u001b[0m┃\u001b[1m \u001b[0m\u001b[1m   Param #\u001b[0m\u001b[1m \u001b[0m┃\u001b[1m \u001b[0m\u001b[1mConnected to     \u001b[0m\u001b[1m \u001b[0m┃\n",
              "┡━━━━━━━━━━━━━━━━━━━━━╇━━━━━━━━━━━━━━━━━━━╇━━━━━━━━━━━━╇━━━━━━━━━━━━━━━━━━━┩\n",
              "│ input_layer_2       │ (\u001b[38;5;45mNone\u001b[0m, \u001b[38;5;34m256\u001b[0m)       │          \u001b[38;5;34m0\u001b[0m │ -                 │\n",
              "│ (\u001b[38;5;33mInputLayer\u001b[0m)        │                   │            │                   │\n",
              "├─────────────────────┼───────────────────┼────────────┼───────────────────┤\n",
              "│ word_embedding      │ (\u001b[38;5;45mNone\u001b[0m, \u001b[38;5;34m256\u001b[0m, \u001b[38;5;34m128\u001b[0m)  │  \u001b[38;5;34m3,840,000\u001b[0m │ input_layer_2[\u001b[38;5;34m0\u001b[0m]… │\n",
              "│ (\u001b[38;5;33mEmbedding\u001b[0m)         │                   │            │                   │\n",
              "├─────────────────────┼───────────────────┼────────────┼───────────────────┤\n",
              "│ position_embedding… │ (\u001b[38;5;45mNone\u001b[0m, \u001b[38;5;34m256\u001b[0m, \u001b[38;5;34m128\u001b[0m)  │     \u001b[38;5;34m32,768\u001b[0m │ word_embedding[\u001b[38;5;34m0\u001b[0m… │\n",
              "│ (\u001b[38;5;33mPositionEmbedding\u001b[0m) │                   │            │                   │\n",
              "├─────────────────────┼───────────────────┼────────────┼───────────────────┤\n",
              "│ add_3 (\u001b[38;5;33mAdd\u001b[0m)         │ (\u001b[38;5;45mNone\u001b[0m, \u001b[38;5;34m256\u001b[0m, \u001b[38;5;34m128\u001b[0m)  │          \u001b[38;5;34m0\u001b[0m │ word_embedding[\u001b[38;5;34m0\u001b[0m… │\n",
              "│                     │                   │            │ position_embeddi… │\n",
              "├─────────────────────┼───────────────────┼────────────┼───────────────────┤\n",
              "│ encoder_0_multihea… │ (\u001b[38;5;45mNone\u001b[0m, \u001b[38;5;34m256\u001b[0m, \u001b[38;5;34m128\u001b[0m)  │     \u001b[38;5;34m66,048\u001b[0m │ add_3[\u001b[38;5;34m0\u001b[0m][\u001b[38;5;34m0\u001b[0m],      │\n",
              "│ (\u001b[38;5;33mMultiHeadAttentio…\u001b[0m │                   │            │ add_3[\u001b[38;5;34m0\u001b[0m][\u001b[38;5;34m0\u001b[0m],      │\n",
              "│                     │                   │            │ add_3[\u001b[38;5;34m0\u001b[0m][\u001b[38;5;34m0\u001b[0m]       │\n",
              "├─────────────────────┼───────────────────┼────────────┼───────────────────┤\n",
              "│ encoder_0_att_drop… │ (\u001b[38;5;45mNone\u001b[0m, \u001b[38;5;34m256\u001b[0m, \u001b[38;5;34m128\u001b[0m)  │          \u001b[38;5;34m0\u001b[0m │ encoder_0_multih… │\n",
              "│ (\u001b[38;5;33mDropout\u001b[0m)           │                   │            │                   │\n",
              "├─────────────────────┼───────────────────┼────────────┼───────────────────┤\n",
              "│ add_4 (\u001b[38;5;33mAdd\u001b[0m)         │ (\u001b[38;5;45mNone\u001b[0m, \u001b[38;5;34m256\u001b[0m, \u001b[38;5;34m128\u001b[0m)  │          \u001b[38;5;34m0\u001b[0m │ add_3[\u001b[38;5;34m0\u001b[0m][\u001b[38;5;34m0\u001b[0m],      │\n",
              "│                     │                   │            │ encoder_0_att_dr… │\n",
              "├─────────────────────┼───────────────────┼────────────┼───────────────────┤\n",
              "│ encoder_0_att_laye… │ (\u001b[38;5;45mNone\u001b[0m, \u001b[38;5;34m256\u001b[0m, \u001b[38;5;34m128\u001b[0m)  │        \u001b[38;5;34m256\u001b[0m │ add_4[\u001b[38;5;34m0\u001b[0m][\u001b[38;5;34m0\u001b[0m]       │\n",
              "│ (\u001b[38;5;33mLayerNormalizatio…\u001b[0m │                   │            │                   │\n",
              "├─────────────────────┼───────────────────┼────────────┼───────────────────┤\n",
              "│ encoder_0_ffn       │ (\u001b[38;5;45mNone\u001b[0m, \u001b[38;5;34m256\u001b[0m, \u001b[38;5;34m128\u001b[0m)  │     \u001b[38;5;34m33,024\u001b[0m │ encoder_0_att_la… │\n",
              "│ (\u001b[38;5;33mSequential\u001b[0m)        │                   │            │                   │\n",
              "├─────────────────────┼───────────────────┼────────────┼───────────────────┤\n",
              "│ encoder_0_ffn_drop… │ (\u001b[38;5;45mNone\u001b[0m, \u001b[38;5;34m256\u001b[0m, \u001b[38;5;34m128\u001b[0m)  │          \u001b[38;5;34m0\u001b[0m │ encoder_0_ffn[\u001b[38;5;34m0\u001b[0m]… │\n",
              "│ (\u001b[38;5;33mDropout\u001b[0m)           │                   │            │                   │\n",
              "├─────────────────────┼───────────────────┼────────────┼───────────────────┤\n",
              "│ add_5 (\u001b[38;5;33mAdd\u001b[0m)         │ (\u001b[38;5;45mNone\u001b[0m, \u001b[38;5;34m256\u001b[0m, \u001b[38;5;34m128\u001b[0m)  │          \u001b[38;5;34m0\u001b[0m │ encoder_0_att_la… │\n",
              "│                     │                   │            │ encoder_0_ffn_dr… │\n",
              "├─────────────────────┼───────────────────┼────────────┼───────────────────┤\n",
              "│ encoder_0_ffn_laye… │ (\u001b[38;5;45mNone\u001b[0m, \u001b[38;5;34m256\u001b[0m, \u001b[38;5;34m128\u001b[0m)  │        \u001b[38;5;34m256\u001b[0m │ add_5[\u001b[38;5;34m0\u001b[0m][\u001b[38;5;34m0\u001b[0m]       │\n",
              "│ (\u001b[38;5;33mLayerNormalizatio…\u001b[0m │                   │            │                   │\n",
              "├─────────────────────┼───────────────────┼────────────┼───────────────────┤\n",
              "│ mlm_cls (\u001b[38;5;33mDense\u001b[0m)     │ (\u001b[38;5;45mNone\u001b[0m, \u001b[38;5;34m256\u001b[0m,       │  \u001b[38;5;34m3,870,000\u001b[0m │ encoder_0_ffn_la… │\n",
              "│                     │ \u001b[38;5;34m30000\u001b[0m)            │            │                   │\n",
              "└─────────────────────┴───────────────────┴────────────┴───────────────────┘\n"
            ],
            "text/html": [
              "<pre style=\"white-space:pre;overflow-x:auto;line-height:normal;font-family:Menlo,'DejaVu Sans Mono',consolas,'Courier New',monospace\">┏━━━━━━━━━━━━━━━━━━━━━┳━━━━━━━━━━━━━━━━━━━┳━━━━━━━━━━━━┳━━━━━━━━━━━━━━━━━━━┓\n",
              "┃<span style=\"font-weight: bold\"> Layer (type)        </span>┃<span style=\"font-weight: bold\"> Output Shape      </span>┃<span style=\"font-weight: bold\">    Param # </span>┃<span style=\"font-weight: bold\"> Connected to      </span>┃\n",
              "┡━━━━━━━━━━━━━━━━━━━━━╇━━━━━━━━━━━━━━━━━━━╇━━━━━━━━━━━━╇━━━━━━━━━━━━━━━━━━━┩\n",
              "│ input_layer_2       │ (<span style=\"color: #00d7ff; text-decoration-color: #00d7ff\">None</span>, <span style=\"color: #00af00; text-decoration-color: #00af00\">256</span>)       │          <span style=\"color: #00af00; text-decoration-color: #00af00\">0</span> │ -                 │\n",
              "│ (<span style=\"color: #0087ff; text-decoration-color: #0087ff\">InputLayer</span>)        │                   │            │                   │\n",
              "├─────────────────────┼───────────────────┼────────────┼───────────────────┤\n",
              "│ word_embedding      │ (<span style=\"color: #00d7ff; text-decoration-color: #00d7ff\">None</span>, <span style=\"color: #00af00; text-decoration-color: #00af00\">256</span>, <span style=\"color: #00af00; text-decoration-color: #00af00\">128</span>)  │  <span style=\"color: #00af00; text-decoration-color: #00af00\">3,840,000</span> │ input_layer_2[<span style=\"color: #00af00; text-decoration-color: #00af00\">0</span>]… │\n",
              "│ (<span style=\"color: #0087ff; text-decoration-color: #0087ff\">Embedding</span>)         │                   │            │                   │\n",
              "├─────────────────────┼───────────────────┼────────────┼───────────────────┤\n",
              "│ position_embedding… │ (<span style=\"color: #00d7ff; text-decoration-color: #00d7ff\">None</span>, <span style=\"color: #00af00; text-decoration-color: #00af00\">256</span>, <span style=\"color: #00af00; text-decoration-color: #00af00\">128</span>)  │     <span style=\"color: #00af00; text-decoration-color: #00af00\">32,768</span> │ word_embedding[<span style=\"color: #00af00; text-decoration-color: #00af00\">0</span>… │\n",
              "│ (<span style=\"color: #0087ff; text-decoration-color: #0087ff\">PositionEmbedding</span>) │                   │            │                   │\n",
              "├─────────────────────┼───────────────────┼────────────┼───────────────────┤\n",
              "│ add_3 (<span style=\"color: #0087ff; text-decoration-color: #0087ff\">Add</span>)         │ (<span style=\"color: #00d7ff; text-decoration-color: #00d7ff\">None</span>, <span style=\"color: #00af00; text-decoration-color: #00af00\">256</span>, <span style=\"color: #00af00; text-decoration-color: #00af00\">128</span>)  │          <span style=\"color: #00af00; text-decoration-color: #00af00\">0</span> │ word_embedding[<span style=\"color: #00af00; text-decoration-color: #00af00\">0</span>… │\n",
              "│                     │                   │            │ position_embeddi… │\n",
              "├─────────────────────┼───────────────────┼────────────┼───────────────────┤\n",
              "│ encoder_0_multihea… │ (<span style=\"color: #00d7ff; text-decoration-color: #00d7ff\">None</span>, <span style=\"color: #00af00; text-decoration-color: #00af00\">256</span>, <span style=\"color: #00af00; text-decoration-color: #00af00\">128</span>)  │     <span style=\"color: #00af00; text-decoration-color: #00af00\">66,048</span> │ add_3[<span style=\"color: #00af00; text-decoration-color: #00af00\">0</span>][<span style=\"color: #00af00; text-decoration-color: #00af00\">0</span>],      │\n",
              "│ (<span style=\"color: #0087ff; text-decoration-color: #0087ff\">MultiHeadAttentio…</span> │                   │            │ add_3[<span style=\"color: #00af00; text-decoration-color: #00af00\">0</span>][<span style=\"color: #00af00; text-decoration-color: #00af00\">0</span>],      │\n",
              "│                     │                   │            │ add_3[<span style=\"color: #00af00; text-decoration-color: #00af00\">0</span>][<span style=\"color: #00af00; text-decoration-color: #00af00\">0</span>]       │\n",
              "├─────────────────────┼───────────────────┼────────────┼───────────────────┤\n",
              "│ encoder_0_att_drop… │ (<span style=\"color: #00d7ff; text-decoration-color: #00d7ff\">None</span>, <span style=\"color: #00af00; text-decoration-color: #00af00\">256</span>, <span style=\"color: #00af00; text-decoration-color: #00af00\">128</span>)  │          <span style=\"color: #00af00; text-decoration-color: #00af00\">0</span> │ encoder_0_multih… │\n",
              "│ (<span style=\"color: #0087ff; text-decoration-color: #0087ff\">Dropout</span>)           │                   │            │                   │\n",
              "├─────────────────────┼───────────────────┼────────────┼───────────────────┤\n",
              "│ add_4 (<span style=\"color: #0087ff; text-decoration-color: #0087ff\">Add</span>)         │ (<span style=\"color: #00d7ff; text-decoration-color: #00d7ff\">None</span>, <span style=\"color: #00af00; text-decoration-color: #00af00\">256</span>, <span style=\"color: #00af00; text-decoration-color: #00af00\">128</span>)  │          <span style=\"color: #00af00; text-decoration-color: #00af00\">0</span> │ add_3[<span style=\"color: #00af00; text-decoration-color: #00af00\">0</span>][<span style=\"color: #00af00; text-decoration-color: #00af00\">0</span>],      │\n",
              "│                     │                   │            │ encoder_0_att_dr… │\n",
              "├─────────────────────┼───────────────────┼────────────┼───────────────────┤\n",
              "│ encoder_0_att_laye… │ (<span style=\"color: #00d7ff; text-decoration-color: #00d7ff\">None</span>, <span style=\"color: #00af00; text-decoration-color: #00af00\">256</span>, <span style=\"color: #00af00; text-decoration-color: #00af00\">128</span>)  │        <span style=\"color: #00af00; text-decoration-color: #00af00\">256</span> │ add_4[<span style=\"color: #00af00; text-decoration-color: #00af00\">0</span>][<span style=\"color: #00af00; text-decoration-color: #00af00\">0</span>]       │\n",
              "│ (<span style=\"color: #0087ff; text-decoration-color: #0087ff\">LayerNormalizatio…</span> │                   │            │                   │\n",
              "├─────────────────────┼───────────────────┼────────────┼───────────────────┤\n",
              "│ encoder_0_ffn       │ (<span style=\"color: #00d7ff; text-decoration-color: #00d7ff\">None</span>, <span style=\"color: #00af00; text-decoration-color: #00af00\">256</span>, <span style=\"color: #00af00; text-decoration-color: #00af00\">128</span>)  │     <span style=\"color: #00af00; text-decoration-color: #00af00\">33,024</span> │ encoder_0_att_la… │\n",
              "│ (<span style=\"color: #0087ff; text-decoration-color: #0087ff\">Sequential</span>)        │                   │            │                   │\n",
              "├─────────────────────┼───────────────────┼────────────┼───────────────────┤\n",
              "│ encoder_0_ffn_drop… │ (<span style=\"color: #00d7ff; text-decoration-color: #00d7ff\">None</span>, <span style=\"color: #00af00; text-decoration-color: #00af00\">256</span>, <span style=\"color: #00af00; text-decoration-color: #00af00\">128</span>)  │          <span style=\"color: #00af00; text-decoration-color: #00af00\">0</span> │ encoder_0_ffn[<span style=\"color: #00af00; text-decoration-color: #00af00\">0</span>]… │\n",
              "│ (<span style=\"color: #0087ff; text-decoration-color: #0087ff\">Dropout</span>)           │                   │            │                   │\n",
              "├─────────────────────┼───────────────────┼────────────┼───────────────────┤\n",
              "│ add_5 (<span style=\"color: #0087ff; text-decoration-color: #0087ff\">Add</span>)         │ (<span style=\"color: #00d7ff; text-decoration-color: #00d7ff\">None</span>, <span style=\"color: #00af00; text-decoration-color: #00af00\">256</span>, <span style=\"color: #00af00; text-decoration-color: #00af00\">128</span>)  │          <span style=\"color: #00af00; text-decoration-color: #00af00\">0</span> │ encoder_0_att_la… │\n",
              "│                     │                   │            │ encoder_0_ffn_dr… │\n",
              "├─────────────────────┼───────────────────┼────────────┼───────────────────┤\n",
              "│ encoder_0_ffn_laye… │ (<span style=\"color: #00d7ff; text-decoration-color: #00d7ff\">None</span>, <span style=\"color: #00af00; text-decoration-color: #00af00\">256</span>, <span style=\"color: #00af00; text-decoration-color: #00af00\">128</span>)  │        <span style=\"color: #00af00; text-decoration-color: #00af00\">256</span> │ add_5[<span style=\"color: #00af00; text-decoration-color: #00af00\">0</span>][<span style=\"color: #00af00; text-decoration-color: #00af00\">0</span>]       │\n",
              "│ (<span style=\"color: #0087ff; text-decoration-color: #0087ff\">LayerNormalizatio…</span> │                   │            │                   │\n",
              "├─────────────────────┼───────────────────┼────────────┼───────────────────┤\n",
              "│ mlm_cls (<span style=\"color: #0087ff; text-decoration-color: #0087ff\">Dense</span>)     │ (<span style=\"color: #00d7ff; text-decoration-color: #00d7ff\">None</span>, <span style=\"color: #00af00; text-decoration-color: #00af00\">256</span>,       │  <span style=\"color: #00af00; text-decoration-color: #00af00\">3,870,000</span> │ encoder_0_ffn_la… │\n",
              "│                     │ <span style=\"color: #00af00; text-decoration-color: #00af00\">30000</span>)            │            │                   │\n",
              "└─────────────────────┴───────────────────┴────────────┴───────────────────┘\n",
              "</pre>\n"
            ]
          },
          "metadata": {}
        },
        {
          "output_type": "display_data",
          "data": {
            "text/plain": [
              "\u001b[1m Total params: \u001b[0m\u001b[38;5;34m7,842,352\u001b[0m (29.92 MB)\n"
            ],
            "text/html": [
              "<pre style=\"white-space:pre;overflow-x:auto;line-height:normal;font-family:Menlo,'DejaVu Sans Mono',consolas,'Courier New',monospace\"><span style=\"font-weight: bold\"> Total params: </span><span style=\"color: #00af00; text-decoration-color: #00af00\">7,842,352</span> (29.92 MB)\n",
              "</pre>\n"
            ]
          },
          "metadata": {}
        },
        {
          "output_type": "display_data",
          "data": {
            "text/plain": [
              "\u001b[1m Trainable params: \u001b[0m\u001b[38;5;34m7,842,352\u001b[0m (29.92 MB)\n"
            ],
            "text/html": [
              "<pre style=\"white-space:pre;overflow-x:auto;line-height:normal;font-family:Menlo,'DejaVu Sans Mono',consolas,'Courier New',monospace\"><span style=\"font-weight: bold\"> Trainable params: </span><span style=\"color: #00af00; text-decoration-color: #00af00\">7,842,352</span> (29.92 MB)\n",
              "</pre>\n"
            ]
          },
          "metadata": {}
        },
        {
          "output_type": "display_data",
          "data": {
            "text/plain": [
              "\u001b[1m Non-trainable params: \u001b[0m\u001b[38;5;34m0\u001b[0m (0.00 B)\n"
            ],
            "text/html": [
              "<pre style=\"white-space:pre;overflow-x:auto;line-height:normal;font-family:Menlo,'DejaVu Sans Mono',consolas,'Courier New',monospace\"><span style=\"font-weight: bold\"> Non-trainable params: </span><span style=\"color: #00af00; text-decoration-color: #00af00\">0</span> (0.00 B)\n",
              "</pre>\n"
            ]
          },
          "metadata": {}
        }
      ],
      "source": [
        "\n",
        "def bert_module(query, key, value, i):\n",
        "    \"\"\"\n",
        "    Constrói um pedaço do modelo que presta atenção em partes importantes do texto.\n",
        "\n",
        "    Essa função cria uma parte do modelo que olha para todas as palavras ao mesmo tempo e decide quais são mais importantes, depois ajusta os números para ficarem melhores.\n",
        "\n",
        "    Args:\n",
        "        query (tf.Tensor): Números que representam o texto que estamos analisando.\n",
        "        key (tf.Tensor): Números que ajudam a decidir o que é importante.\n",
        "        value (tf.Tensor): Números que serão ajustados com base na importância.\n",
        "        i (int): Um número para identificar essa parte do modelo (se houver várias).\n",
        "\n",
        "    Returns:\n",
        "        tf.Tensor: Os números ajustados depois de prestar atenção e refinar.\n",
        "\n",
        "    Exemplo:\n",
        "        query = key = value = [[1, 2], [3, 4]]\n",
        "        Resultado: Um tensor ajustado com base na atenção entre os números.\n",
        "    \"\"\"\n",
        "    attention_output = layers.MultiHeadAttention(  # Cria uma camada que presta atenção em várias partes do texto ao mesmo tempo.\n",
        "        num_heads=config.NUM_HEAD,  # Quantas \"cabeças\" vão olhar o texto (mais cabeças = mais detalhes).\n",
        "        key_dim=config.EMBED_DIM // config.NUM_HEAD,  # Tamanho de cada pedaço de informação que cada cabeça vê.\n",
        "        name=f\"encoder_{i}_multiheadattention\"  # Nome único para essa camada.\n",
        "    )(query, key, value)  # Faz as cabeças olharem para query, key e value e decidirem o que importa.\n",
        "    attention_output = layers.Dropout(0.1, name=f\"encoder_{i}_att_dropout\")(attention_output)  # Descarta 10% dos dados aleatoriamente para evitar depender demais de alguns números.\n",
        "    attention_output = layers.LayerNormalization(  # Ajusta os números para ficarem mais consistentes (média 0, variação 1).\n",
        "        epsilon=1e-6,  # Um número pequeno para evitar divisão por zero.\n",
        "        name=f\"encoder_{i}_att_layernormalization\"  # Nome único para essa camada.\n",
        "    )(query + attention_output)  # Combina os números originais com os ajustados (conexão residual).\n",
        "    ffn = keras.Sequential(  # Cria uma mini-rede com duas camadas para refinar os números ainda mais.\n",
        "        [\n",
        "            layers.Dense(config.FF_DIM, activation=\"relu\"),  # Primeira camada: aumenta os detalhes e usa ReLU para zerar números negativos.\n",
        "            layers.Dense(config.EMBED_DIM)  # Segunda camada: volta ao tamanho original sem ativação especial.\n",
        "        ],\n",
        "        name=f\"encoder_{i}_ffn\"  # Nome único para essa mini-rede.\n",
        "    )\n",
        "    ffn_output = ffn(attention_output)  # Passa os números ajustados pela mini-rede.\n",
        "    ffn_output = layers.Dropout(0.1, name=f\"encoder_{i}_ffn_dropout\")(ffn_output)  # Descarta 10% dos dados novamente.\n",
        "    sequence_output = layers.LayerNormalization(  # Ajusta os números mais uma vez para consistência.\n",
        "        epsilon=1e-6,  # Pequeno número para evitar problemas matemáticos.\n",
        "        name=f\"encoder_{i}_ffn_layernormalization\"  # Nome único para essa camada.\n",
        "    )(attention_output + ffn_output)  # Combina os números da atenção com os da mini-rede.\n",
        "    return sequence_output  # Retorna os números finais dessa parte do modelo.\n",
        "\n",
        "# Links auxiliares:\n",
        "# - [MultiHeadAttention](https://keras.io/api/layers/attention_layers/multi_head_attention/): Como funciona a atenção com várias cabeças.\n",
        "# - [LayerNormalization](https://keras.io/api/layers/normalization_layers/layer_normalization/): Explicação sobre normalização.\n",
        "# - [Dropout](https://keras.io/api/layers/regularization_layers/dropout/): Por que descartar dados ajuda o modelo.\n",
        "\n",
        "# Define a função de perda como entropia cruzada categórica esparsa, sem redução automática (ou seja, retorna a perda por amostra, útil para o MLM).\n",
        "loss_fn = keras.losses.SparseCategoricalCrossentropy(reduction=None)\n",
        "# Cria um objeto para rastrear a média da perda durante o treinamento, nomeado como 'loss'.\n",
        "loss_tracker = keras.metrics.Mean(name=\"loss\")\n",
        "\n",
        "class MaskedLanguageModel(keras.Model):\n",
        "    \"\"\"\n",
        "    Um modelo especial que aprende a adivinhar palavras escondidas nos textos.\n",
        "\n",
        "    Essa classe define como o modelo calcula o erro (perda) e acompanha o progresso enquanto treina para adivinhar palavras que foram escondidas.\n",
        "\n",
        "    Exemplo:\n",
        "        O modelo pega \"olá [MASK] terra\" e tenta adivinhar que '[MASK]' é 'mundo'.\n",
        "    \"\"\"\n",
        "    def compute_loss(self, x=None, y=None, y_pred=None, sample_weight=None):\n",
        "        \"\"\"\n",
        "        Calcula o quanto o modelo está errando nas suas previsões.\n",
        "\n",
        "        Args:\n",
        "            x: Entrada (não usada aqui diretamente).\n",
        "            y (tf.Tensor): As palavras corretas que o modelo deveria prever.\n",
        "            y_pred (tf.Tensor): As previsões do modelo.\n",
        "            sample_weight (tf.Tensor): Pesos que dizem quais previsões importam mais.\n",
        "\n",
        "        Returns:\n",
        "            tf.Tensor: O erro total calculado.\n",
        "        \"\"\"\n",
        "        loss = loss_fn(y, y_pred, sample_weight)  # Calcula o erro comparando as previsões com as respostas certas.\n",
        "        loss_tracker.update_state(loss, sample_weight=sample_weight)  # Atualiza um contador que acompanha o erro médio.\n",
        "        return keras.ops.sum(loss)  # Soma todo o erro para dar um número único.\n",
        "\n",
        "    def compute_metrics(self, x, y, y_pred, sample_weight):\n",
        "        \"\"\"\n",
        "        Mostra como o modelo está se saindo.\n",
        "\n",
        "        Args:\n",
        "            x, y, y_pred, sample_weight: Mesmos significados que em compute_loss.\n",
        "\n",
        "        Returns:\n",
        "            dict: Um dicionário com o erro médio até agora.\n",
        "        \"\"\"\n",
        "        return {\"loss\": loss_tracker.result()}  # Retorna o erro médio guardado no contador.\n",
        "\n",
        "    @property\n",
        "    def metrics(self):\n",
        "        \"\"\"\n",
        "        Diz quais números o modelo vai acompanhar enquanto treina.\n",
        "\n",
        "        Returns:\n",
        "            list: Lista com o contador de erro.\n",
        "        \"\"\"\n",
        "        return [loss_tracker]  # Inclui o contador de erro para ser mostrado durante o treino.\n",
        "\n",
        "# Links auxiliares:\n",
        "# - [Criando modelos personalizados](https://keras.io/guides/making_new_layers_and_models_via_subclassing/): Como fazer classes como essa.\n",
        "\n",
        "\n",
        "def create_masked_language_bert_model():\n",
        "    \"\"\"\n",
        "    Monta um modelo completo para adivinhar palavras escondidas nos textos.\n",
        "\n",
        "    Esse modelo junta várias partes: transforma números em informações detalhadas, presta atenção nas palavras importantes e tenta prever as que estão faltando.\n",
        "\n",
        "    Returns:\n",
        "        MaskedLanguageModel: O modelo pronto para treinar.\n",
        "    \"\"\"\n",
        "    inputs = layers.Input((config.MAX_LEN,), dtype=\"int64\")  # Cria a entrada para sequências de números (textos transformados).\n",
        "    word_embeddings = layers.Embedding(  # Transforma cada número em um vetor de informações mais rico.\n",
        "        config.VOCAB_SIZE,  # Número total de palavras que o modelo conhece.\n",
        "        config.EMBED_DIM,  # Tamanho de cada vetor de informações.\n",
        "        name=\"word_embedding\"  # Nome dessa camada.\n",
        "    )(inputs)  # Aplica essa transformação nos números de entrada.\n",
        "    position_embeddings = keras_hub.layers.PositionEmbedding(  # Adiciona informações sobre a posição de cada palavra na frase.\n",
        "        sequence_length=config.MAX_LEN  # Tamanho máximo da frase.\n",
        "    )(word_embeddings)  # Aplica isso nos vetores de palavras.\n",
        "    embeddings = word_embeddings + position_embeddings  # Combina as informações das palavras com suas posições.\n",
        "    encoder_output = embeddings  # Começa com os vetores combinados.\n",
        "    for i in range(config.NUM_LAYERS):  # Repete várias vezes para refinar os dados.\n",
        "        encoder_output = bert_module(encoder_output, encoder_output, encoder_output, i)  # Passa por uma parte que presta atenção e refina.\n",
        "    mlm_output = layers.Dense(  # Cria uma camada final para adivinhar as palavras.\n",
        "        config.VOCAB_SIZE,  # Número de palavras possíveis para prever.\n",
        "        name=\"mlm_cls\",  # Nome dessa camada.\n",
        "        activation=\"softmax\"  # Transforma os resultados em probabilidades (soma 1).\n",
        "    )(encoder_output)  # Faz a previsão com base nos dados refinados.\n",
        "    mlm_model = MaskedLanguageModel(inputs, mlm_output, name=\"masked_bert_model\")  # Junta tudo em um modelo especial.\n",
        "    optimizer = keras.optimizers.Adam(learning_rate=config.LR)  # Define como o modelo vai aprender ajustando os erros.\n",
        "    mlm_model.compile(optimizer=optimizer)  # Prepara o modelo para ser treinado.\n",
        "    return mlm_model  # Retorna o modelo pronto.\n",
        "\n",
        "# Links auxiliares:\n",
        "# - [Embedding Layer](https://keras.io/api/layers/core_layers/embedding/): Como transformar números em vetores.\n",
        "# - [PositionEmbedding](https://keras.io/api/keras_nlp/layers/position_embedding/): Sobre adicionar posição às palavras.\n",
        "# - [Adam Optimizer](https://keras.io/api/optimizers/adam/): Como o modelo ajusta os erros.\n",
        "\n",
        "# Cria um dicionário que mapeia IDs (índices) para tokens (palavras) com base no vocabulário do vetorizador.\n",
        "id2token = dict(enumerate(vectorize_layer.get_vocabulary()))\n",
        "# Inverte o dicionário, criando um mapeamento de tokens para IDs.\n",
        "token2id = {y: x for x, y in id2token.items()}\n",
        "\n",
        "\n",
        "class MaskedTextGenerator(keras.callbacks.Callback):\n",
        "    \"\"\"\n",
        "    Uma ferramenta que mostra como o modelo está adivinhando palavras escondidas durante o treino.\n",
        "\n",
        "    Essa classe acompanha o treino e, a cada etapa, testa o modelo com um texto exemplo para ver o que ele prevê no lugar de '[MASK]'.\n",
        "\n",
        "    Args:\n",
        "        sample_tokens (np.ndarray): Um texto numerado com '[MASK]' para testar.\n",
        "        top_k (int): Quantas previsões principais mostrar (padrão é 5).\n",
        "    \"\"\"\n",
        "    def __init__(self, sample_tokens, top_k=5):\n",
        "        super().__init__()  # Configura a classe base (necessário para callbacks).\n",
        "        self.sample_tokens = sample_tokens  # Guarda o texto numerado de exemplo.\n",
        "        self.k = top_k  # Define quantas previsões principais serão exibidas.\n",
        "\n",
        "    def decode(self, tokens):\n",
        "        \"\"\"\n",
        "        Transforma uma sequência de números de volta em texto legível.\n",
        "\n",
        "        Args:\n",
        "            tokens (np.ndarray): Lista de números representando palavras.\n",
        "\n",
        "        Returns:\n",
        "            str: O texto reconstruído.\n",
        "        \"\"\"\n",
        "        return \" \".join([id2token[t] for t in tokens if t != 0])  # Junta as palavras correspondentes aos números, ignorando 0 ('[PAD]').\n",
        "\n",
        "    def convert_ids_to_tokens(self, id):\n",
        "        \"\"\"\n",
        "        Transforma um único número em sua palavra correspondente.\n",
        "\n",
        "        Args:\n",
        "            id (int): O número a converter.\n",
        "\n",
        "        Returns:\n",
        "            str: A palavra associada ao número.\n",
        "        \"\"\"\n",
        "        return id2token[id]  # Pega a palavra do dicionário id2token.\n",
        "\n",
        "    def on_epoch_end(self, epoch, logs=None):\n",
        "        \"\"\"\n",
        "        Executa no final de cada etapa de treino para mostrar as previsões.\n",
        "\n",
        "        Args:\n",
        "            epoch (int): Número da etapa atual.\n",
        "            logs (dict): Informações do treino (não usadas aqui).\n",
        "        \"\"\"\n",
        "        prediction = self.model.predict(self.sample_tokens)  # Usa o modelo para prever as palavras no texto exemplo.\n",
        "        masked_index = np.where(self.sample_tokens == mask_token_id)[1]  # Encontra onde está o '[MASK]' no texto.\n",
        "        mask_prediction = prediction[0][masked_index]  # Pega as probabilidades previstas para o '[MASK]'.\n",
        "        top_indices = mask_prediction[0].argsort()[-self.k:][::-1]  # Escolhe os 5 números com maiores probabilidades (ordem decrescente).\n",
        "        values = mask_prediction[0][top_indices]  # Pega as probabilidades correspondentes a esses números.\n",
        "        for i in range(len(top_indices)):  # Para cada uma das top previsões:\n",
        "            p = top_indices[i]  # Pega o número previsto.\n",
        "            v = values[i]  # Pega a probabilidade associada.\n",
        "            tokens = np.copy(sample_tokens[0])  # Faz uma cópia do texto exemplo.\n",
        "            tokens[masked_index[0]] = p  # Substitui '[MASK]' pela previsão.\n",
        "            result = {  # Cria um dicionário com os resultados.\n",
        "                \"input_text\": self.decode(sample_tokens[0].cpu().numpy()),  # Texto original com '[MASK]'.\n",
        "                \"prediction\": self.decode(tokens),  # Texto com a previsão no lugar de '[MASK]'.\n",
        "                \"probability\": v,  # Probabilidade dessa previsão.\n",
        "                \"predicted mask token\": self.convert_ids_to_tokens(p),  # Palavra prevista sozinha.\n",
        "            }\n",
        "            pprint(result)  # Mostra o resultado de forma organizada.\n",
        "\n",
        "# Links auxiliares:\n",
        "# - [Callbacks no Keras](https://keras.io/api/callbacks/): Como criar ferramentas que acompanham o treino.\n",
        "# - [np.where](https://numpy.org/doc/stable/reference/generated/numpy.where.html): Como encontrar posições em arrays.\n",
        "\n",
        "\n",
        "# Vetoriza o texto de exemplo \"SyntaxError: Unexpected [mask]\", convertendo-o em uma sequência numérica.\n",
        "sample_tokens = vectorize_layer([\"SyntaxError: Unexpected [mask]\"])\n",
        "# Instancia um callback personalizado 'MaskedTextGenerator' (assumido como definido) com a sequência numérica, para gerar texto durante o treinamento.\n",
        "generator_callback = MaskedTextGenerator(sample_tokens.cpu().numpy())\n",
        "\n",
        "# Cria um modelo BERT para masked language modeling chamando a função 'create_masked_language_bert_model' (assumida como definida).\n",
        "bert_masked_model = create_masked_language_bert_model()\n",
        "bert_masked_model.summary()  # Exibe um resumo da arquitetura do modelo, como número de camadas e parâmetros."
      ]
    },
    {
      "cell_type": "markdown",
      "metadata": {
        "id": "AuoDrtsFIF1w"
      },
      "source": [
        "## Train and Save"
      ]
    },
    {
      "cell_type": "code",
      "execution_count": 11,
      "metadata": {
        "id": "LO76aubFIF1w",
        "outputId": "7f57b68c-33f4-4d1d-a834-f3152af78c49",
        "colab": {
          "base_uri": "https://localhost:8080/"
        }
      },
      "outputs": [
        {
          "output_type": "stream",
          "name": "stdout",
          "text": [
            "Epoch 1/5\n",
            "\u001b[1m1/1\u001b[0m \u001b[32m━━━━━━━━━━━━━━━━━━━━\u001b[0m\u001b[37m\u001b[0m \u001b[1m0s\u001b[0m 97ms/step\n",
            "{'input_text': 'syntaxerror unexpected [mask]',\n",
            " 'predicted mask token': np.str_('error'),\n",
            " 'prediction': 'syntaxerror unexpected error',\n",
            " 'probability': np.float32(0.098302424)}\n",
            "{'input_text': 'syntaxerror unexpected [mask]',\n",
            " 'predicted mask token': np.str_('in'),\n",
            " 'prediction': 'syntaxerror unexpected in',\n",
            " 'probability': np.float32(0.041935407)}\n",
            "{'input_text': 'syntaxerror unexpected [mask]',\n",
            " 'predicted mask token': np.str_('not'),\n",
            " 'prediction': 'syntaxerror unexpected not',\n",
            " 'probability': np.float32(0.022850646)}\n",
            "{'input_text': 'syntaxerror unexpected [mask]',\n",
            " 'predicted mask token': np.str_('to'),\n",
            " 'prediction': 'syntaxerror unexpected to',\n",
            " 'probability': np.float32(0.022426281)}\n",
            "{'input_text': 'syntaxerror unexpected [mask]',\n",
            " 'predicted mask token': np.str_('with'),\n",
            " 'prediction': 'syntaxerror unexpected with',\n",
            " 'probability': np.float32(0.021635888)}\n",
            "\u001b[1m6250/6250\u001b[0m \u001b[32m━━━━━━━━━━━━━━━━━━━━\u001b[0m\u001b[37m\u001b[0m \u001b[1m1905s\u001b[0m 305ms/step - loss: 6.7274\n",
            "Epoch 2/5\n",
            "\u001b[1m1/1\u001b[0m \u001b[32m━━━━━━━━━━━━━━━━━━━━\u001b[0m\u001b[37m\u001b[0m \u001b[1m0s\u001b[0m 109ms/step\n",
            "{'input_text': 'syntaxerror unexpected [mask]',\n",
            " 'predicted mask token': np.str_('error'),\n",
            " 'prediction': 'syntaxerror unexpected error',\n",
            " 'probability': np.float32(0.12600833)}\n",
            "{'input_text': 'syntaxerror unexpected [mask]',\n",
            " 'predicted mask token': np.str_('issue'),\n",
            " 'prediction': 'syntaxerror unexpected issue',\n",
            " 'probability': np.float32(0.024543114)}\n",
            "{'input_text': 'syntaxerror unexpected [mask]',\n",
            " 'predicted mask token': np.str_('unexpected'),\n",
            " 'prediction': 'syntaxerror unexpected unexpected',\n",
            " 'probability': np.float32(0.01776239)}\n",
            "{'input_text': 'syntaxerror unexpected [mask]',\n",
            " 'predicted mask token': np.str_('exception'),\n",
            " 'prediction': 'syntaxerror unexpected exception',\n",
            " 'probability': np.float32(0.015116588)}\n",
            "{'input_text': 'syntaxerror unexpected [mask]',\n",
            " 'predicted mask token': np.str_('errors'),\n",
            " 'prediction': 'syntaxerror unexpected errors',\n",
            " 'probability': np.float32(0.014537058)}\n",
            "\u001b[1m6250/6250\u001b[0m \u001b[32m━━━━━━━━━━━━━━━━━━━━\u001b[0m\u001b[37m\u001b[0m \u001b[1m1901s\u001b[0m 304ms/step - loss: 5.3347\n",
            "Epoch 3/5\n",
            "\u001b[1m1/1\u001b[0m \u001b[32m━━━━━━━━━━━━━━━━━━━━\u001b[0m\u001b[37m\u001b[0m \u001b[1m0s\u001b[0m 101ms/step\n",
            "{'input_text': 'syntaxerror unexpected [mask]',\n",
            " 'predicted mask token': np.str_('error'),\n",
            " 'prediction': 'syntaxerror unexpected error',\n",
            " 'probability': np.float32(0.39354366)}\n",
            "{'input_text': 'syntaxerror unexpected [mask]',\n",
            " 'predicted mask token': np.str_('unexpected'),\n",
            " 'prediction': 'syntaxerror unexpected unexpected',\n",
            " 'probability': np.float32(0.10184394)}\n",
            "{'input_text': 'syntaxerror unexpected [mask]',\n",
            " 'predicted mask token': np.str_('syntax'),\n",
            " 'prediction': 'syntaxerror unexpected syntax',\n",
            " 'probability': np.float32(0.040396504)}\n",
            "{'input_text': 'syntaxerror unexpected [mask]',\n",
            " 'predicted mask token': np.str_('errors'),\n",
            " 'prediction': 'syntaxerror unexpected errors',\n",
            " 'probability': np.float32(0.0179325)}\n",
            "{'input_text': 'syntaxerror unexpected [mask]',\n",
            " 'predicted mask token': np.str_('issue'),\n",
            " 'prediction': 'syntaxerror unexpected issue',\n",
            " 'probability': np.float32(0.016566578)}\n",
            "\u001b[1m6250/6250\u001b[0m \u001b[32m━━━━━━━━━━━━━━━━━━━━\u001b[0m\u001b[37m\u001b[0m \u001b[1m1900s\u001b[0m 304ms/step - loss: 4.4386\n",
            "Epoch 4/5\n",
            "\u001b[1m1/1\u001b[0m \u001b[32m━━━━━━━━━━━━━━━━━━━━\u001b[0m\u001b[37m\u001b[0m \u001b[1m0s\u001b[0m 100ms/step\n",
            "{'input_text': 'syntaxerror unexpected [mask]',\n",
            " 'predicted mask token': np.str_('error'),\n",
            " 'prediction': 'syntaxerror unexpected error',\n",
            " 'probability': np.float32(0.2372819)}\n",
            "{'input_text': 'syntaxerror unexpected [mask]',\n",
            " 'predicted mask token': np.str_('issue'),\n",
            " 'prediction': 'syntaxerror unexpected issue',\n",
            " 'probability': np.float32(0.0917664)}\n",
            "{'input_text': 'syntaxerror unexpected [mask]',\n",
            " 'predicted mask token': np.str_('unexpected'),\n",
            " 'prediction': 'syntaxerror unexpected unexpected',\n",
            " 'probability': np.float32(0.04790539)}\n",
            "{'input_text': 'syntaxerror unexpected [mask]',\n",
            " 'predicted mask token': np.str_('syntax'),\n",
            " 'prediction': 'syntaxerror unexpected syntax',\n",
            " 'probability': np.float32(0.04259776)}\n",
            "{'input_text': 'syntaxerror unexpected [mask]',\n",
            " 'predicted mask token': np.str_('errors'),\n",
            " 'prediction': 'syntaxerror unexpected errors',\n",
            " 'probability': np.float32(0.029050961)}\n",
            "\u001b[1m6250/6250\u001b[0m \u001b[32m━━━━━━━━━━━━━━━━━━━━\u001b[0m\u001b[37m\u001b[0m \u001b[1m1901s\u001b[0m 304ms/step - loss: 3.9852\n",
            "Epoch 5/5\n",
            "\u001b[1m1/1\u001b[0m \u001b[32m━━━━━━━━━━━━━━━━━━━━\u001b[0m\u001b[37m\u001b[0m \u001b[1m0s\u001b[0m 124ms/step\n",
            "{'input_text': 'syntaxerror unexpected [mask]',\n",
            " 'predicted mask token': np.str_('error'),\n",
            " 'prediction': 'syntaxerror unexpected error',\n",
            " 'probability': np.float32(0.22705351)}\n",
            "{'input_text': 'syntaxerror unexpected [mask]',\n",
            " 'predicted mask token': np.str_('syntax'),\n",
            " 'prediction': 'syntaxerror unexpected syntax',\n",
            " 'probability': np.float32(0.07655566)}\n",
            "{'input_text': 'syntaxerror unexpected [mask]',\n",
            " 'predicted mask token': np.str_('issue'),\n",
            " 'prediction': 'syntaxerror unexpected issue',\n",
            " 'probability': np.float32(0.068694495)}\n",
            "{'input_text': 'syntaxerror unexpected [mask]',\n",
            " 'predicted mask token': np.str_('unexpected'),\n",
            " 'prediction': 'syntaxerror unexpected unexpected',\n",
            " 'probability': np.float32(0.052827355)}\n",
            "{'input_text': 'syntaxerror unexpected [mask]',\n",
            " 'predicted mask token': np.str_('errors'),\n",
            " 'prediction': 'syntaxerror unexpected errors',\n",
            " 'probability': np.float32(0.029907692)}\n",
            "\u001b[1m6250/6250\u001b[0m \u001b[32m━━━━━━━━━━━━━━━━━━━━\u001b[0m\u001b[37m\u001b[0m \u001b[1m1899s\u001b[0m 304ms/step - loss: 3.7363\n"
          ]
        }
      ],
      "source": [
        "# Treina o modelo no dataset 'mlm_ds' por 5 épocas, usando o callback 'generator_callback' para monitorar ou gerar previsões.\n",
        "bert_masked_model.fit(mlm_ds, epochs=5, callbacks=[generator_callback])\n",
        "bert_masked_model.save(\"bert_mlm_stackoverflow.keras\")"
      ]
    },
    {
      "cell_type": "markdown",
      "metadata": {
        "id": "4rnBmQPFIF1w"
      },
      "source": [
        "## Fine-tune a sentiment classification model\n",
        "\n",
        "We will fine-tune our self-supervised model on a downstream task of sentiment classification.\n",
        "To do this, let's create a classifier by adding a pooling layer and a `Dense` layer on top of the\n",
        "pretrained BERT features."
      ]
    },
    {
      "cell_type": "code",
      "execution_count": 12,
      "metadata": {
        "id": "CqKAc2iCIF1w",
        "outputId": "b5f6c0f9-e64f-4fd7-fe47-c263df52bbac",
        "colab": {
          "base_uri": "https://localhost:8080/",
          "height": 686
        }
      },
      "outputs": [
        {
          "output_type": "display_data",
          "data": {
            "text/plain": [
              "\u001b[1mModel: \"classification\"\u001b[0m\n"
            ],
            "text/html": [
              "<pre style=\"white-space:pre;overflow-x:auto;line-height:normal;font-family:Menlo,'DejaVu Sans Mono',consolas,'Courier New',monospace\"><span style=\"font-weight: bold\">Model: \"classification\"</span>\n",
              "</pre>\n"
            ]
          },
          "metadata": {}
        },
        {
          "output_type": "display_data",
          "data": {
            "text/plain": [
              "┏━━━━━━━━━━━━━━━━━━━━━━━━━━━━━━━━━┳━━━━━━━━━━━━━━━━━━━━━━━━┳━━━━━━━━━━━━━━━┓\n",
              "┃\u001b[1m \u001b[0m\u001b[1mLayer (type)                   \u001b[0m\u001b[1m \u001b[0m┃\u001b[1m \u001b[0m\u001b[1mOutput Shape          \u001b[0m\u001b[1m \u001b[0m┃\u001b[1m \u001b[0m\u001b[1m      Param #\u001b[0m\u001b[1m \u001b[0m┃\n",
              "┡━━━━━━━━━━━━━━━━━━━━━━━━━━━━━━━━━╇━━━━━━━━━━━━━━━━━━━━━━━━╇━━━━━━━━━━━━━━━┩\n",
              "│ input_layer_4 (\u001b[38;5;33mInputLayer\u001b[0m)      │ (\u001b[38;5;45mNone\u001b[0m, \u001b[38;5;34m256\u001b[0m)            │             \u001b[38;5;34m0\u001b[0m │\n",
              "├─────────────────────────────────┼────────────────────────┼───────────────┤\n",
              "│ functional_4 (\u001b[38;5;33mFunctional\u001b[0m)       │ (\u001b[38;5;45mNone\u001b[0m, \u001b[38;5;34m256\u001b[0m, \u001b[38;5;34m128\u001b[0m)       │     \u001b[38;5;34m3,972,352\u001b[0m │\n",
              "├─────────────────────────────────┼────────────────────────┼───────────────┤\n",
              "│ global_max_pooling1d            │ (\u001b[38;5;45mNone\u001b[0m, \u001b[38;5;34m128\u001b[0m)            │             \u001b[38;5;34m0\u001b[0m │\n",
              "│ (\u001b[38;5;33mGlobalMaxPooling1D\u001b[0m)            │                        │               │\n",
              "├─────────────────────────────────┼────────────────────────┼───────────────┤\n",
              "│ dense_4 (\u001b[38;5;33mDense\u001b[0m)                 │ (\u001b[38;5;45mNone\u001b[0m, \u001b[38;5;34m64\u001b[0m)             │         \u001b[38;5;34m8,256\u001b[0m │\n",
              "├─────────────────────────────────┼────────────────────────┼───────────────┤\n",
              "│ dense_5 (\u001b[38;5;33mDense\u001b[0m)                 │ (\u001b[38;5;45mNone\u001b[0m, \u001b[38;5;34m1\u001b[0m)              │            \u001b[38;5;34m65\u001b[0m │\n",
              "└─────────────────────────────────┴────────────────────────┴───────────────┘\n"
            ],
            "text/html": [
              "<pre style=\"white-space:pre;overflow-x:auto;line-height:normal;font-family:Menlo,'DejaVu Sans Mono',consolas,'Courier New',monospace\">┏━━━━━━━━━━━━━━━━━━━━━━━━━━━━━━━━━┳━━━━━━━━━━━━━━━━━━━━━━━━┳━━━━━━━━━━━━━━━┓\n",
              "┃<span style=\"font-weight: bold\"> Layer (type)                    </span>┃<span style=\"font-weight: bold\"> Output Shape           </span>┃<span style=\"font-weight: bold\">       Param # </span>┃\n",
              "┡━━━━━━━━━━━━━━━━━━━━━━━━━━━━━━━━━╇━━━━━━━━━━━━━━━━━━━━━━━━╇━━━━━━━━━━━━━━━┩\n",
              "│ input_layer_4 (<span style=\"color: #0087ff; text-decoration-color: #0087ff\">InputLayer</span>)      │ (<span style=\"color: #00d7ff; text-decoration-color: #00d7ff\">None</span>, <span style=\"color: #00af00; text-decoration-color: #00af00\">256</span>)            │             <span style=\"color: #00af00; text-decoration-color: #00af00\">0</span> │\n",
              "├─────────────────────────────────┼────────────────────────┼───────────────┤\n",
              "│ functional_4 (<span style=\"color: #0087ff; text-decoration-color: #0087ff\">Functional</span>)       │ (<span style=\"color: #00d7ff; text-decoration-color: #00d7ff\">None</span>, <span style=\"color: #00af00; text-decoration-color: #00af00\">256</span>, <span style=\"color: #00af00; text-decoration-color: #00af00\">128</span>)       │     <span style=\"color: #00af00; text-decoration-color: #00af00\">3,972,352</span> │\n",
              "├─────────────────────────────────┼────────────────────────┼───────────────┤\n",
              "│ global_max_pooling1d            │ (<span style=\"color: #00d7ff; text-decoration-color: #00d7ff\">None</span>, <span style=\"color: #00af00; text-decoration-color: #00af00\">128</span>)            │             <span style=\"color: #00af00; text-decoration-color: #00af00\">0</span> │\n",
              "│ (<span style=\"color: #0087ff; text-decoration-color: #0087ff\">GlobalMaxPooling1D</span>)            │                        │               │\n",
              "├─────────────────────────────────┼────────────────────────┼───────────────┤\n",
              "│ dense_4 (<span style=\"color: #0087ff; text-decoration-color: #0087ff\">Dense</span>)                 │ (<span style=\"color: #00d7ff; text-decoration-color: #00d7ff\">None</span>, <span style=\"color: #00af00; text-decoration-color: #00af00\">64</span>)             │         <span style=\"color: #00af00; text-decoration-color: #00af00\">8,256</span> │\n",
              "├─────────────────────────────────┼────────────────────────┼───────────────┤\n",
              "│ dense_5 (<span style=\"color: #0087ff; text-decoration-color: #0087ff\">Dense</span>)                 │ (<span style=\"color: #00d7ff; text-decoration-color: #00d7ff\">None</span>, <span style=\"color: #00af00; text-decoration-color: #00af00\">1</span>)              │            <span style=\"color: #00af00; text-decoration-color: #00af00\">65</span> │\n",
              "└─────────────────────────────────┴────────────────────────┴───────────────┘\n",
              "</pre>\n"
            ]
          },
          "metadata": {}
        },
        {
          "output_type": "display_data",
          "data": {
            "text/plain": [
              "\u001b[1m Total params: \u001b[0m\u001b[38;5;34m3,980,673\u001b[0m (15.19 MB)\n"
            ],
            "text/html": [
              "<pre style=\"white-space:pre;overflow-x:auto;line-height:normal;font-family:Menlo,'DejaVu Sans Mono',consolas,'Courier New',monospace\"><span style=\"font-weight: bold\"> Total params: </span><span style=\"color: #00af00; text-decoration-color: #00af00\">3,980,673</span> (15.19 MB)\n",
              "</pre>\n"
            ]
          },
          "metadata": {}
        },
        {
          "output_type": "display_data",
          "data": {
            "text/plain": [
              "\u001b[1m Trainable params: \u001b[0m\u001b[38;5;34m8,321\u001b[0m (32.50 KB)\n"
            ],
            "text/html": [
              "<pre style=\"white-space:pre;overflow-x:auto;line-height:normal;font-family:Menlo,'DejaVu Sans Mono',consolas,'Courier New',monospace\"><span style=\"font-weight: bold\"> Trainable params: </span><span style=\"color: #00af00; text-decoration-color: #00af00\">8,321</span> (32.50 KB)\n",
              "</pre>\n"
            ]
          },
          "metadata": {}
        },
        {
          "output_type": "display_data",
          "data": {
            "text/plain": [
              "\u001b[1m Non-trainable params: \u001b[0m\u001b[38;5;34m3,972,352\u001b[0m (15.15 MB)\n"
            ],
            "text/html": [
              "<pre style=\"white-space:pre;overflow-x:auto;line-height:normal;font-family:Menlo,'DejaVu Sans Mono',consolas,'Courier New',monospace\"><span style=\"font-weight: bold\"> Non-trainable params: </span><span style=\"color: #00af00; text-decoration-color: #00af00\">3,972,352</span> (15.15 MB)\n",
              "</pre>\n"
            ]
          },
          "metadata": {}
        },
        {
          "output_type": "stream",
          "name": "stdout",
          "text": [
            "Epoch 1/5\n",
            "\u001b[1m3125/3125\u001b[0m \u001b[32m━━━━━━━━━━━━━━━━━━━━\u001b[0m\u001b[37m\u001b[0m \u001b[1m86s\u001b[0m 27ms/step - accuracy: 0.5385 - loss: 0.7281 - val_accuracy: 0.5487 - val_loss: 0.6957\n",
            "Epoch 2/5\n",
            "\u001b[1m3125/3125\u001b[0m \u001b[32m━━━━━━━━━━━━━━━━━━━━\u001b[0m\u001b[37m\u001b[0m \u001b[1m80s\u001b[0m 26ms/step - accuracy: 0.5617 - loss: 0.6832 - val_accuracy: 0.5693 - val_loss: 0.6783\n",
            "Epoch 3/5\n",
            "\u001b[1m3125/3125\u001b[0m \u001b[32m━━━━━━━━━━━━━━━━━━━━\u001b[0m\u001b[37m\u001b[0m \u001b[1m89s\u001b[0m 28ms/step - accuracy: 0.5710 - loss: 0.6790 - val_accuracy: 0.5757 - val_loss: 0.6760\n",
            "Epoch 4/5\n",
            "\u001b[1m3125/3125\u001b[0m \u001b[32m━━━━━━━━━━━━━━━━━━━━\u001b[0m\u001b[37m\u001b[0m \u001b[1m87s\u001b[0m 28ms/step - accuracy: 0.5694 - loss: 0.6780 - val_accuracy: 0.5808 - val_loss: 0.6743\n",
            "Epoch 5/5\n",
            "\u001b[1m3125/3125\u001b[0m \u001b[32m━━━━━━━━━━━━━━━━━━━━\u001b[0m\u001b[37m\u001b[0m \u001b[1m80s\u001b[0m 26ms/step - accuracy: 0.5734 - loss: 0.6772 - val_accuracy: 0.5797 - val_loss: 0.6750\n",
            "Epoch 1/5\n",
            "\u001b[1m3125/3125\u001b[0m \u001b[32m━━━━━━━━━━━━━━━━━━━━\u001b[0m\u001b[37m\u001b[0m \u001b[1m176s\u001b[0m 56ms/step - accuracy: 0.5867 - loss: 0.6717 - val_accuracy: 0.6011 - val_loss: 0.6637\n",
            "Epoch 2/5\n",
            "\u001b[1m3125/3125\u001b[0m \u001b[32m━━━━━━━━━━━━━━━━━━━━\u001b[0m\u001b[37m\u001b[0m \u001b[1m120s\u001b[0m 38ms/step - accuracy: 0.6364 - loss: 0.6395 - val_accuracy: 0.5847 - val_loss: 0.6825\n",
            "Epoch 3/5\n",
            "\u001b[1m3125/3125\u001b[0m \u001b[32m━━━━━━━━━━━━━━━━━━━━\u001b[0m\u001b[37m\u001b[0m \u001b[1m116s\u001b[0m 37ms/step - accuracy: 0.7045 - loss: 0.5733 - val_accuracy: 0.5787 - val_loss: 0.7198\n",
            "Epoch 4/5\n",
            "\u001b[1m3125/3125\u001b[0m \u001b[32m━━━━━━━━━━━━━━━━━━━━\u001b[0m\u001b[37m\u001b[0m \u001b[1m112s\u001b[0m 36ms/step - accuracy: 0.7751 - loss: 0.4736 - val_accuracy: 0.5618 - val_loss: 0.8778\n",
            "Epoch 5/5\n",
            "\u001b[1m3125/3125\u001b[0m \u001b[32m━━━━━━━━━━━━━━━━━━━━\u001b[0m\u001b[37m\u001b[0m \u001b[1m116s\u001b[0m 37ms/step - accuracy: 0.8355 - loss: 0.3653 - val_accuracy: 0.5533 - val_loss: 1.0725\n"
          ]
        },
        {
          "output_type": "execute_result",
          "data": {
            "text/plain": [
              "<keras.src.callbacks.history.History at 0x7dacf4717f50>"
            ]
          },
          "metadata": {},
          "execution_count": 12
        }
      ],
      "source": [
        "mlm_model = keras.models.load_model(  # Carrega o modelo MLM salvo anteriormente do arquivo 'bert_mlm_stackoverflow.keras'.\n",
        "    \"bert_mlm_stackoverflow.keras\",\n",
        "    custom_objects={\"MaskedLanguageModel\": MaskedLanguageModel}  # Especifica objetos personalizados necessários para carregar o modelo corretamente.\n",
        ")\n",
        "pretrained_bert_model = keras.Model(  # Cria um novo modelo a partir do 'mlm_model'.\n",
        "    mlm_model.input,  # Usa a mesma entrada do modelo MLM.\n",
        "    mlm_model.get_layer(\"encoder_0_ffn_layernormalization\").output  # Define a saída como a da camada 'encoder_0_ffn_layernormalization', extraindo representações do encoder.\n",
        ")\n",
        "\n",
        "pretrained_bert_model.trainable = False  # Congela os pesos do modelo pré-treinado, impedindo que sejam atualizados durante o treinamento do classificador.\n",
        "\n",
        "\n",
        "def create_classifier_bert_model():\n",
        "    \"\"\"\n",
        "    Cria um modelo de classificação binária usando o BERT pré-treinado como extrator de características.\n",
        "\n",
        "    Returns:\n",
        "        keras.Model: Modelo compilado para classificação binária.\n",
        "    \"\"\"\n",
        "    inputs = layers.Input((config.MAX_LEN,), dtype=\"int64\")  # Define a entrada como sequências de comprimento 'MAX_LEN' (256) com valores inteiros.\n",
        "    sequence_output = pretrained_bert_model(inputs)  # Passa a entrada pelo modelo BERT congelado para obter representações de sequência.\n",
        "    pooled_output = layers.GlobalMaxPooling1D()(sequence_output)  # Aplica pooling máximo global para reduzir a sequência a um único vetor.\n",
        "    hidden_layer = layers.Dense(64, activation=\"relu\")(pooled_output)  # Adiciona uma camada densa com 64 unidades e ativação ReLU para aprendizado adicional.\n",
        "    outputs = layers.Dense(1, activation=\"sigmoid\")(hidden_layer)  # Camada de saída com 1 unidade e ativação sigmoide para prever a probabilidade (0 ou 1).\n",
        "    classifer_model = keras.Model(inputs, outputs, name=\"classification\")  # Cria o modelo com a entrada e saída definidas, nomeado como 'classification'.\n",
        "    optimizer = keras.optimizers.Adam()  # Usa o otimizador Adam com taxa de aprendizado padrão.\n",
        "    classifer_model.compile(  # Compila o modelo.\n",
        "        optimizer=optimizer,  # Define o otimizador.\n",
        "        loss=\"binary_crossentropy\",  # Usa entropia cruzada binária como função de perda, ideal para classificação binária.\n",
        "        metrics=[\"accuracy\"]  # Monitora a acurácia durante o treinamento.\n",
        "    )\n",
        "    return classifer_model  # Retorna o modelo compilado.\n",
        "\n",
        "classifer_model = create_classifier_bert_model()  # Instancia o modelo de classificação.\n",
        "classifer_model.summary()  # Exibe um resumo da arquitetura do modelo.\n",
        "\n",
        "classifer_model.fit(  # Treina o modelo de classificação com o BERT congelado.\n",
        "    train_classifier_ds,  # Usa o dataset de treino preparado anteriormente.\n",
        "    epochs=5,  # Treina por 5 épocas.\n",
        "    validation_data=test_classifier_ds,  # Usa o dataset de teste para validação durante o treinamento.\n",
        ")\n",
        "\n",
        "pretrained_bert_model.trainable = True  # Descongela os pesos do BERT, permitindo ajustes finos (fine-tuning).\n",
        "optimizer = keras.optimizers.Adam()  # Reinicia o otimizador Adam.\n",
        "classifer_model.compile(  # Recompila o modelo com os pesos descongelados.\n",
        "    optimizer=optimizer,\n",
        "    loss=\"binary_crossentropy\",\n",
        "    metrics=[\"accuracy\"]\n",
        ")\n",
        "classifer_model.fit(  # Realiza o fine-tuning do modelo.\n",
        "    train_classifier_ds,\n",
        "    epochs=5,\n",
        "    validation_data=test_classifier_ds,\n",
        ")"
      ]
    },
    {
      "cell_type": "markdown",
      "metadata": {
        "id": "AA8Dgh-PIF1x"
      },
      "source": [
        "## Create an end-to-end model and evaluate it\n",
        "\n",
        "When you want to deploy a model, it's best if it already includes its preprocessing\n",
        "pipeline, so that you don't have to reimplement the preprocessing logic in your\n",
        "production environment. Let's create an end-to-end model that incorporates\n",
        "the `TextVectorization` layer inside evalaute method, and let's evaluate. We will pass raw strings as input."
      ]
    },
    {
      "cell_type": "code",
      "execution_count": 13,
      "metadata": {
        "id": "gUeGbDLUIF1x",
        "outputId": "79810f25-aad7-46da-c22a-7c7ff151adca",
        "colab": {
          "base_uri": "https://localhost:8080/"
        }
      },
      "outputs": [
        {
          "output_type": "stream",
          "name": "stdout",
          "text": [
            "\u001b[1m3125/3125\u001b[0m \u001b[32m━━━━━━━━━━━━━━━━━━━━\u001b[0m\u001b[37m\u001b[0m \u001b[1m41s\u001b[0m 13ms/step - accuracy: 0.5522 - loss: 1.0759\n"
          ]
        },
        {
          "output_type": "execute_result",
          "data": {
            "text/plain": [
              "[1.0725253820419312, 0.553309977054596]"
            ]
          },
          "metadata": {},
          "execution_count": 13
        }
      ],
      "source": [
        "class ModelEndtoEnd(keras.Model):\n",
        "    \"\"\"\n",
        "    Modelo personalizado que estende 'keras.Model' para avaliar diretamente textos brutos.\n",
        "\n",
        "    Sobrescreve o método 'evaluate' para pré-processar os dados antes da avaliação.\n",
        "    \"\"\"\n",
        "    def evaluate(self, inputs):\n",
        "        \"\"\"\n",
        "        Avalia o modelo com um DataFrame bruto, codificando os textos antes de passar pelo modelo.\n",
        "\n",
        "        Args:\n",
        "            inputs (pd.DataFrame): DataFrame com colunas 'review' (textos) e 'sentiment' (rótulos).\n",
        "\n",
        "        Returns:\n",
        "            list: Resultados da avaliação (perda e métricas).\n",
        "        \"\"\"\n",
        "        features = encode(inputs.review.values)  # Codifica os textos brutos da coluna 'review' usando a função 'encode'.\n",
        "        labels = inputs.sentiment.values  # Extrai os rótulos da coluna 'sentiment'.\n",
        "        test_classifier_ds = (  # Cria um dataset TensorFlow a partir dos dados codificados.\n",
        "            tf.data.Dataset.from_tensor_slices((features, labels))  # Converte em pares (entrada, rótulo).\n",
        "            .shuffle(1000)  # Embaralha os dados.\n",
        "            .batch(config.BATCH_SIZE)  # Agrupa em lotes de tamanho 32.\n",
        "        )\n",
        "        return super().evaluate(test_classifier_ds)  # Chama o método 'evaluate' da classe pai com o dataset preparado.\n",
        "\n",
        "    def build(self, input_shape):\n",
        "        \"\"\"\n",
        "        Define o modelo como construído, necessário para compatibilidade com o Keras.\n",
        "\n",
        "        Args:\n",
        "            input_shape: Formato da entrada (não usado diretamente aqui).\n",
        "        \"\"\"\n",
        "        self.built = True  # Marca o modelo como construído.\n",
        "\n",
        "def get_end_to_end(model):\n",
        "    \"\"\"\n",
        "    Cria um modelo end-to-end a partir de um modelo de classificação existente.\n",
        "\n",
        "    Args:\n",
        "        model (keras.Model): Modelo de classificação treinado.\n",
        "\n",
        "    Returns:\n",
        "        ModelEndtoEnd: Modelo end-to-end compilado.\n",
        "    \"\"\"\n",
        "    inputs = classifer_model.inputs[0]  # Obtém a primeira entrada do modelo de classificação.\n",
        "    outputs = classifer_model.outputs  # Obtém as saídas do modelo de classificação.\n",
        "    end_to_end_model = ModelEndtoEnd(inputs, outputs, name=\"end_to_end_model\")  # Cria uma instância do modelo end-to-end com a mesma entrada e saída.\n",
        "    optimizer = keras.optimizers.Adam(learning_rate=config.LR)  # Define o otimizador com a taxa de aprendizado de 'config'.\n",
        "    end_to_end_model.compile(  # Compila o modelo.\n",
        "        optimizer=optimizer,\n",
        "        loss=\"binary_crossentropy\",\n",
        "        metrics=[\"accuracy\"]\n",
        "    )\n",
        "    return end_to_end_model  # Retorna o modelo end-to-end pronto.\n",
        "\n",
        "end_to_end_classification_model = get_end_to_end(classifer_model)  # Cria o modelo end-to-end usando o 'classifer_model'.\n",
        "# Pass raw text dataframe to the model\n",
        "end_to_end_classification_model.evaluate(test_raw_classifier_ds)  # Avalia o modelo com o DataFrame bruto de teste, pré-processando os dados internamente."
      ]
    },
    {
      "cell_type": "markdown",
      "source": [
        "## Building the Markov Chain for MLM\n",
        "\n",
        "### Description\n",
        "\n",
        "This cell defines the `build_markov_chain` function, which constructs a Markov Chain based on bigrams (default `n_gram=2`) for the Masked Language Modeling (MLM) task.\n",
        "\n",
        "### Input:\n",
        "- A list of texts (e.g., Stack Overflow questions).\n",
        "\n",
        "### Process:\n",
        "1. Applies `custom_standardization` (defined in the BERT code) to clean the text (e.g., remove HTML and punctuation).\n",
        "2. Splits the text into words and updates the vocabulary (`vocab`).\n",
        "3. For each sequence of words:\n",
        "   - Records the transition frequency from the current state (previous word) to the next state (following word).\n",
        "4. Normalizes the frequencies into transition probabilities.\n",
        "\n",
        "### Output:\n",
        "- A dictionary `markov_prob` containing transition probabilities.\n",
        "- A list `vocab` with the complete vocabulary.\n",
        "\n",
        "This function is the core of the Markov model, enabling masked word prediction based on local context."
      ],
      "metadata": {
        "id": "DXE1oUuTrs0p"
      }
    },
    {
      "cell_type": "code",
      "source": [
        "from sklearn.linear_model import LogisticRegression  # Importa o modelo de regressão logística para classificação.\n",
        "from sklearn.metrics import accuracy_score  # Importa a função para calcular a acurácia do modelo.\n",
        "from collections import defaultdict  # Importa um dicionário que inicializa automaticamente valores padrão para chaves novas.\n",
        "\n",
        "# Construir Cadeia de Markov para MLM (bigramas)\n",
        "def build_markov_chain(texts, n_gram=2):\n",
        "    \"\"\"\n",
        "    Constrói uma Cadeia de Markov para modelar transições entre palavras com base em n-gramas.\n",
        "\n",
        "    Essa função cria um modelo probabilístico que prevê a próxima palavra com base nas anteriores (n-gramas).\n",
        "    Por padrão, usa bigramas (n_gram=2), onde o estado atual é uma palavra e o próximo estado é a palavra seguinte.\n",
        "\n",
        "    Args:\n",
        "        texts (list): Lista de textos (strings) usados para treinar o modelo.\n",
        "        n_gram (int): Tamanho do n-grama (quantas palavras anteriores considerar). Padrão é 2.\n",
        "\n",
        "    Returns:\n",
        "        dict: Dicionário com probabilidades de transição entre palavras.\n",
        "        list: Lista de palavras únicas (vocabulário) encontradas nos textos.\n",
        "    \"\"\"\n",
        "    markov_chain = defaultdict(lambda: defaultdict(int))  # Cria um dicionário aninhado para contar transições.\n",
        "    vocab = set()  # Conjunto para armazenar o vocabulário único.\n",
        "    for text in texts:  # Itera sobre cada texto na lista:\n",
        "        cleaned_text = custom_standardization(tf.constant(text))  # Limpa o texto usando uma função de padronização externa.\n",
        "        # Convert the EagerTensor to a NumPy array and then decode it to a string\n",
        "        cleaned_text = cleaned_text.numpy().decode('utf-8')\n",
        "        words = cleaned_text.split()  # Divide o texto em palavras.\n",
        "        vocab.update(words)  # Adiciona as palavras ao vocabulário.\n",
        "        if len(words) < n_gram:  # Se o texto for muito curto para o n-grama, pula para o próximo.\n",
        "            continue\n",
        "        for i in range(len(words) - n_gram + 1):  # Para cada posição possível no texto:\n",
        "            current_state = \" \".join(words[i:i+n_gram-1])  # Forma o estado atual (ex.: uma palavra para n=2).\n",
        "            next_state = words[i+n_gram-1]  # Pega a próxima palavra como o próximo estado.\n",
        "            markov_chain[current_state][next_state] += 1  # Conta quantas vezes essa transição ocorre.\n",
        "    # Normalizar para probabilidades\n",
        "    markov_prob = {}  # Dicionário para armazenar as probabilidades normalizadas.\n",
        "    for current_state, transitions in markov_chain.items():  # Para cada estado e suas transições:\n",
        "        total = sum(transitions.values())  # Calcula o total de ocorrências de transições desse estado.\n",
        "        markov_prob[current_state] = {word: count/total for word, count in transitions.items()}  # Converte contagens em probabilidades.\n",
        "    return markov_prob, list(vocab)  # Retorna as probabilidades e o vocabulário."
      ],
      "metadata": {
        "id": "dEUgvrfFBYgi"
      },
      "execution_count": 14,
      "outputs": []
    },
    {
      "cell_type": "markdown",
      "source": [
        "## Masked Word Prediction with Markov\n",
        "\n",
        "### Description\n",
        "\n",
        "This cell implements and tests masked word prediction using the Markov Chain.\n",
        "\n",
        "### `predict_masked_word` Function:\n",
        "\n",
        "#### **Input:**\n",
        "- A text containing `[mask]`\n",
        "- The transition probability dictionary `markov_prob`\n",
        "- The position of `[mask]` in the text\n",
        "- The n-gram size (default: `2`)\n",
        "\n",
        "#### **Process:**\n",
        "1. Cleans the text.\n",
        "2. Identifies the current state (words before `[mask]`).\n",
        "3. Returns the most probable word and its probability based on `markov_prob`.\n",
        "\n",
        "#### **Output:**\n",
        "- A tuple containing the predicted word and its probability (e.g., `(\"error\", 0.35)`).\n",
        "\n",
        "### **Testing:**\n",
        "- Builds the Markov Chain using all available data (`all_data[\"review\"]`).\n",
        "- Tests with the example `\"SyntaxError unexpected [mask]\"`, simulating BERT's callback.\n",
        "- Displays the prediction for qualitative analysis.\n",
        "\n",
        "This cell replicates the MLM task of BERT in a simplified manner, allowing direct comparison with BERT’s predictions."
      ],
      "metadata": {
        "id": "aJAZsihpseoc"
      }
    },
    {
      "cell_type": "code",
      "source": [
        "# Função para prever palavra mascarada com Markov\n",
        "def predict_masked_word(text, markov_prob, mask_position, n_gram=2):\n",
        "    \"\"\"\n",
        "    Prevê a palavra mais provável em uma posição mascarada usando a Cadeia de Markov.\n",
        "\n",
        "    Dado um texto com '[mask]' em alguma posição, essa função usa as palavras anteriores à máscara\n",
        "    para prever qual palavra tem maior probabilidade de aparecer ali, com base no modelo Markov.\n",
        "\n",
        "    Args:\n",
        "        text (str): Texto com '[mask]' indicando a posição a ser prevista.\n",
        "        markov_prob (dict): Dicionário de probabilidades de transição do modelo Markov.\n",
        "        mask_position (int): Índice da posição da máscara no texto.\n",
        "        n_gram (int): Tamanho do n-grama usado no modelo. Padrão é 2.\n",
        "\n",
        "    Returns:\n",
        "        tuple: A palavra prevista e sua probabilidade (ou 'unknown' e 0.0 se não houver previsão).\n",
        "    \"\"\"\n",
        "    cleaned_text = custom_standardization(tf.constant(text)).numpy().decode('utf-8')  # Limpa o texto com a função de padronização.\n",
        "    words = cleaned_text.split()  # Divide o texto em palavras.\n",
        "    if len(words) < n_gram or mask_position < n_gram-1 or mask_position >= len(words):  # Verifica se há contexto suficiente.\n",
        "        return \"unknown\", 0.0  # Retorna 'unknown' se o texto for curto ou a máscara estiver mal posicionada.\n",
        "    current_state = \" \".join(words[mask_position-n_gram+1:mask_position])  # Forma o estado atual com palavras antes da máscara.\n",
        "    if current_state in markov_prob:  # Se o estado atual estiver no modelo:\n",
        "        next_words = markov_prob[current_state]  # Pega as possíveis próximas palavras e suas probabilidades.\n",
        "        if next_words:  # Se houver transições registradas:\n",
        "            predicted_word = max(next_words.items(), key=lambda x: x[1])[0]  # Escolhe a palavra mais provável.\n",
        "            probability = next_words[predicted_word]  # Pega a probabilidade dessa palavra.\n",
        "            return predicted_word, probability  # Retorna a previsão.\n",
        "    return \"unknown\", 0.0  # Retorna 'unknown' se não houver previsão possível.\n",
        "\n",
        "# Testar MLM com Markov\n",
        "markov_prob, vocab = build_markov_chain(all_data[\"review\"].values)  # Constrói o modelo Markov com os dados de reviews.\n",
        "sample_text = \"SyntaxError unexpected [mask]\"  # Texto de exemplo com uma máscara.\n",
        "cleaned_text = custom_standardization(tf.constant(sample_text)).numpy().decode('utf-8')\n",
        "words = cleaned_text.split()  # Limpa e divide o texto em palavras.\n",
        "mask_position = words.index(\"[mask]\")  # Encontra o índice da máscara.\n",
        "predicted_word, prob = predict_masked_word(sample_text, markov_prob, mask_position)  # Prevê a palavra mascarada.\n",
        "print(f\"Markov Prediction for '{sample_text}':\")  # Exibe o texto original.\n",
        "print(f\"Predicted word: '{predicted_word}', Probability: {prob:.4f}\")  # Exibe a palavra prevista e sua probabilidade."
      ],
      "metadata": {
        "id": "0YuWQKxCroAn",
        "colab": {
          "base_uri": "https://localhost:8080/"
        },
        "outputId": "41a84450-773a-410d-e63b-c9b96f6c8a66"
      },
      "execution_count": 15,
      "outputs": [
        {
          "output_type": "stream",
          "name": "stdout",
          "text": [
            "Markov Prediction for 'SyntaxError unexpected [mask]':\n",
            "Predicted word: 'token', Probability: 0.1760\n"
          ]
        }
      ]
    },
    {
      "cell_type": "markdown",
      "source": [
        "## Feature Extraction for Classification\n",
        "\n",
        "### Description\n",
        "\n",
        "This cell prepares data for a binary classification task using features derived from the Markov Chain.\n",
        "\n",
        "### `extract_markov_features` Function:\n",
        "\n",
        "#### **Input:**\n",
        "- A list of texts\n",
        "- The transition probability dictionary `markov_prob`\n",
        "\n",
        "#### **Process:**\n",
        "1. Computes the average transition probabilities of bigrams in each text.\n",
        "2. Generates a single numerical feature per text.\n",
        "\n",
        "#### **Output:**\n",
        "- A NumPy array with shape `(n_samples, 1)`, ready for use in a classifier.\n",
        "\n",
        "### **Preparation:**\n",
        "- Generates features for the training set (`X_train_markov`) and test set (`X_test_markov`).\n",
        "- Defines labels `y_train` and `y_test` based on sentiment (`Score >= 1` or `< 1`).\n",
        "- Keeps `test_raw_classifier_ds` as the test DataFrame for compatibility with BERT.\n",
        "\n",
        "This approach transforms Markov probabilities into a simple representation for classification, contrasting with BERT’s rich embeddings."
      ],
      "metadata": {
        "id": "bj9YzRHJsk1K"
      }
    },
    {
      "cell_type": "code",
      "source": [
        "# Extrair features para classificação (média das probabilidades de transição)\n",
        "def extract_markov_features(texts, markov_prob, n_gram=2):\n",
        "    \"\"\"\n",
        "    Extrai uma característica numérica para cada texto baseada nas probabilidades da Cadeia de Markov.\n",
        "\n",
        "    Calcula a média das probabilidades de transição entre palavras em cada texto,\n",
        "    usando essas médias como features para o classificador.\n",
        "\n",
        "    Args:\n",
        "        texts (list): Lista de textos para extrair características.\n",
        "        markov_prob (dict): Dicionário de probabilidades do modelo Markov.\n",
        "        n_gram (int): Tamanho do n-grama. Padrão é 2.\n",
        "\n",
        "    Returns:\n",
        "        np.ndarray: Array com uma característica por texto (média das probabilidades).\n",
        "    \"\"\"\n",
        "    features = []  # Lista para armazenar as características.\n",
        "    for text in texts:  # Para cada texto:\n",
        "        cleaned_text = custom_standardization(tf.constant(text)).numpy().decode('utf-8')  # Limpa o texto.\n",
        "        words = cleaned_text.split()  # Divide em palavras.\n",
        "        if len(words) < n_gram:  # Se o texto for muito curto, atribui 0.0 como feature.\n",
        "            features.append(0.0)\n",
        "            continue\n",
        "        prob_sum = 0  # Soma das probabilidades de transição.\n",
        "        count = 0  # Contador de transições válidas.\n",
        "        for i in range(len(words) - n_gram + 1):  # Para cada n-grama no texto:\n",
        "            current_state = \" \".join(words[i:i+n_gram-1])  # Estado atual.\n",
        "            next_word = words[i+n_gram-1]  # Próxima palavra.\n",
        "            if current_state in markov_prob and next_word in markov_prob[current_state]:  # Se a transição existe no modelo:\n",
        "                prob_sum += markov_prob[current_state][next_word]  # Adiciona a probabilidade.\n",
        "                count += 1  # Incrementa o contador.\n",
        "        features.append(prob_sum / count if count > 0 else 0.0)  # Calcula a média ou usa 0.0 se não houver transições.\n",
        "    return np.array(features).reshape(-1, 1)  # Retorna as features como um array NumPy com uma coluna.\n",
        "\n",
        "# Preparar dados para classificação\n",
        "X_train_markov = extract_markov_features(train_df[\"review\"].values, markov_prob)  # Extrai features para o treino.\n",
        "X_test_markov = extract_markov_features(test_df[\"review\"].values, markov_prob)  # Extrai features para o teste.\n",
        "y_train = train_df[\"sentiment\"].values  # Rótulos de sentimento para o treino.\n",
        "y_test = test_df[\"sentiment\"].values  # Rótulos de sentimento para o teste.\n",
        "\n",
        "test_raw_classifier_ds = test_df  # Armazena o DataFrame de teste para uso posterior."
      ],
      "metadata": {
        "id": "UFSc6CNYroez"
      },
      "execution_count": 16,
      "outputs": []
    },
    {
      "cell_type": "markdown",
      "source": [
        "## Training and Evaluation of the Markov Classifier\n",
        "\n",
        "### Description\n",
        "\n",
        "This cell trains and evaluates a classifier based on features extracted from the Markov model.\n",
        "\n",
        "### **Training:**\n",
        "- Uses `LogisticRegression` with the extracted features (`X_train_markov`) and labels (`y_train`).\n",
        "\n",
        "### **Evaluation:**\n",
        "- Computes predictions for the test set (`X_test_markov`).\n",
        "- Measures accuracy using `accuracy_score`.\n",
        "\n",
        "### **Output:**\n",
        "- Prints the accuracy of the Markov model, enabling a quantitative comparison with BERT.\n",
        "\n",
        "Logistic regression is a simple yet effective choice for classification using a single feature, reflecting the minimalistic approach of the Markov model."
      ],
      "metadata": {
        "id": "iM8dU5LLtHs0"
      }
    },
    {
      "cell_type": "code",
      "source": [
        "# Treinar classificador com Markov\n",
        "markov_classifier = LogisticRegression(max_iter=1000)  # Cria um modelo de regressão logística com até 1000 iterações.\n",
        "markov_classifier.fit(X_train_markov, y_train)  # Treina o modelo com os dados de treino.\n",
        "\n",
        "# Avaliar Markov\n",
        "y_pred_markov = markov_classifier.predict(X_test_markov)  # Faz previsões no conjunto de teste.\n",
        "markov_accuracy = accuracy_score(y_test, y_pred_markov)  # Calcula a acurácia comparando previsões e rótulos reais.\n",
        "print(f\"\\nAcurácia do modelo Markov (classificação): {markov_accuracy:.4f}\")  # Exibe a acurácia.\n",
        "\n",
        "# Comparar com BERT (assumindo que você já rodou o código BERT)\n",
        "bert_accuracy = end_to_end_classification_model.evaluate(test_raw_classifier_ds)[1]  # Avalia o modelo BERT e pega a acurácia.\n",
        "print(f\"Acurácia do modelo BERT (classificação): {bert_accuracy:.4f}\")  # Exibe a acurácia do BERT.\n",
        "\n",
        "# Comparação\n",
        "print(\"\\nComparação dos Resultados (Classificação Binária):\")  # Inicia a seção de comparação.\n",
        "print(f\"Modelo Markov - Acurácia: {markov_accuracy:.4f}\")  # Exibe a acurácia do Markov.\n",
        "print(f\"Modelo BERT - Acurácia: {bert_accuracy:.4f}\")  # Exibe a acurácia do BERT.\n",
        "print(f\"Diferença (BERT - Markov): {bert_accuracy - markov_accuracy:.4f}\")  # Mostra a diferença entre as acurácias.\n",
        "\n",
        "# Comparação no MLM (qualitativa)\n",
        "print(\"\\nComparação no MLM (exemplo qualitativo):\")  # Inicia a comparação qualitativa do MLM.\n",
        "print(f\"BERT Prediction (Epoch 5): 'error' com probabilidade 0.4701\")  # Exemplo fixo da previsão do BERT.\n",
        "print(f\"Markov Prediction: '{predicted_word}' com probabilidade {prob:.4f}\")  # Exibe a previsão do Markov."
      ],
      "metadata": {
        "id": "_A32jZLHro4N",
        "colab": {
          "base_uri": "https://localhost:8080/"
        },
        "outputId": "05ff9a16-09ed-4e4b-9bf1-9c9ecf802947"
      },
      "execution_count": 17,
      "outputs": [
        {
          "output_type": "stream",
          "name": "stdout",
          "text": [
            "\n",
            "Acurácia do modelo Markov (classificação): 0.5303\n",
            "\u001b[1m3125/3125\u001b[0m \u001b[32m━━━━━━━━━━━━━━━━━━━━\u001b[0m\u001b[37m\u001b[0m \u001b[1m38s\u001b[0m 12ms/step - accuracy: 0.5524 - loss: 1.0756\n",
            "Acurácia do modelo BERT (classificação): 0.5533\n",
            "\n",
            "Comparação dos Resultados (Classificação Binária):\n",
            "Modelo Markov - Acurácia: 0.5303\n",
            "Modelo BERT - Acurácia: 0.5533\n",
            "Diferença (BERT - Markov): 0.0230\n",
            "\n",
            "Comparação no MLM (exemplo qualitativo):\n",
            "BERT Prediction (Epoch 5): 'error' com probabilidade 0.4701\n",
            "Markov Prediction: 'token' com probabilidade 0.1760\n"
          ]
        }
      ]
    },
    {
      "cell_type": "markdown",
      "source": [
        "## Accuracy Comparison: Markov vs BERT\n",
        "\n",
        "### Description\n",
        "\n",
        "This cell generates a bar chart to visually compare the accuracies of the Markov and BERT models.\n",
        "\n",
        "### **Chart:**\n",
        "- A bar chart is created using `matplotlib`, displaying the accuracies of the two models.\n",
        "- The bars represent the \"Markov\" and \"BERT\" models with distinct colors (blue and green).\n",
        "- The y-axis is limited between 0 and 1 to reflect the accuracy range.\n",
        "\n",
        "### **Purpose:**\n",
        "- Provide a clear and straightforward visualization of the relative performance of the two models.\n",
        "- Enable a quick comparison between the Markov chain-based approach and the BERT model.\n",
        "\n",
        "This chart is a useful tool to highlight the performance difference between a simple probabilistic model (Markov) and an advanced deep learning model (BERT)."
      ],
      "metadata": {
        "id": "ArhWkI0FkI_U"
      }
    },
    {
      "cell_type": "code",
      "source": [
        "import matplotlib.pyplot as plt  # Importa a biblioteca para criar gráficos.\n",
        "\n",
        "# Dados para o gráfico\n",
        "models = ['Markov', 'BERT']  # Nomes dos modelos a serem comparados.\n",
        "accuracies = [markov_accuracy, bert_accuracy]  # Acurácias dos dois modelos.\n",
        "\n",
        "# Criação do gráfico de barras\n",
        "plt.figure(figsize=(8, 6))  # Define o tamanho da figura (largura, altura).\n",
        "plt.bar(models, accuracies, color=['blue', 'green'])  # Cria barras com cores distintas para cada modelo.\n",
        "plt.ylim(0, 1)  # Define o limite do eixo y entre 0 e 1 (acurácia varia de 0 a 1).\n",
        "plt.title('Comparação de Acurácia: Markov vs BERT')  # Título do gráfico.\n",
        "plt.xlabel('Modelos')  # Rótulo do eixo x.\n",
        "plt.ylabel('Acurácia')  # Rótulo do eixo y.\n",
        "plt.show()  # Exibe o gráfico."
      ],
      "metadata": {
        "id": "-RpwGWbzkJRl",
        "colab": {
          "base_uri": "https://localhost:8080/",
          "height": 565
        },
        "outputId": "46e95c58-3ac5-4b46-dfb4-ebc43c45ced5"
      },
      "execution_count": 18,
      "outputs": [
        {
          "output_type": "display_data",
          "data": {
            "text/plain": [
              "<Figure size 800x600 with 1 Axes>"
            ],
            "image/png": "[encoded data removed]"
          },
          "metadata": {}
        }
      ]
    },
    {
      "cell_type": "markdown",
      "source": [
        "## Cross-Validation of the Markov Model\n",
        "\n",
        "### Description\n",
        "\n",
        "This cell performs cross-validation on the Markov model and plots the results to check for potential overfitting or underfitting issues.\n",
        "\n",
        "### **Cross-Validation:**\n",
        "- Uses `cross_val_score` to calculate accuracy across 5 folds of the training set.\n",
        "- Plots the accuracy for each fold in a line chart with markers.\n",
        "\n",
        "### **Chart:**\n",
        "- Displays the accuracy for each fold in the cross-validation process.\n",
        "- A horizontal line indicates the test set accuracy for comparison.\n",
        "- Includes a title, axis labels, and legend for clarity.\n",
        "\n",
        "### **Purpose:**\n",
        "- Assess the consistency of the Markov model across different subsets of data.\n",
        "- Detect overfitting (if test accuracy is much higher than fold accuracies) or underfitting (if all accuracies are low).\n",
        "\n",
        "This chart helps understand whether the model is generalizing well or overly fitted to the training data, offering a more robust view of its performance."
      ],
      "metadata": {
        "id": "1zU44ckmkJd2"
      }
    },
    {
      "cell_type": "code",
      "source": [
        "from sklearn.model_selection import cross_val_score  # Importa função para validação cruzada.\n",
        "\n",
        "# Realizar validação cruzada no modelo Markov\n",
        "cv_scores = cross_val_score(markov_classifier, X_train_markov, y_train, cv=5)  # Calcula acurácia em 5 folds.\n",
        "\n",
        "# Plotar os resultados da validação cruzada\n",
        "plt.figure(figsize=(8, 6))  # Define o tamanho da figura.\n",
        "plt.plot(range(1, 6), cv_scores, marker='o', linestyle='--', color='purple')  # Plota a acurácia de cada fold.\n",
        "plt.axhline(y=markov_accuracy, color='blue', linestyle='-', label=f'Acurácia Teste: {markov_accuracy:.4f}')  # Linha da acurácia no teste.\n",
        "plt.title('Validação Cruzada do Modelo Markov')  # Título do gráfico.\n",
        "plt.xlabel('Fold')  # Rótulo do eixo x (cada fold da validação cruzada).\n",
        "plt.ylabel('Acurácia')  # Rótulo do eixo y.\n",
        "plt.ylim(0, 1)  # Limite do eixo y entre 0 e 1.\n",
        "plt.legend()  # Exibe a legenda.\n",
        "plt.grid(True)  # Adiciona uma grade para facilitar a leitura.\n",
        "plt.show()  # Exibe o gráfico.\n",
        "\n",
        "# Exibir média e desvio padrão da validação cruzada\n",
        "print(f\"Média da acurácia na validação cruzada: {cv_scores.mean():.4f}\")\n",
        "print(f\"Desvio padrão da acurácia na validação cruzada: {cv_scores.std():.4f}\")"
      ],
      "metadata": {
        "id": "x64JWoijkJxu",
        "colab": {
          "base_uri": "https://localhost:8080/",
          "height": 600
        },
        "outputId": "412be0d2-264c-43b9-8bad-3b3125c64841"
      },
      "execution_count": 19,
      "outputs": [
        {
          "output_type": "display_data",
          "data": {
            "text/plain": [
              "<Figure size 800x600 with 1 Axes>"
            ],
            "image/png": "[encoded data removed]"
          },
          "metadata": {}
        },
        {
          "output_type": "stream",
          "name": "stdout",
          "text": [
            "Média da acurácia na validação cruzada: 0.5300\n",
            "Desvio padrão da acurácia na validação cruzada: 0.0042\n"
          ]
        }
      ]
    },
    {
      "cell_type": "code",
      "source": [],
      "metadata": {
        "id": "qmflE1jGsALe"
      },
      "execution_count": null,
      "outputs": []
    }
  ],
  "metadata": {
    "accelerator": "GPU",
    "colab": {
      "name": "masked_language_modeling",
      "provenance": [],
      "include_colab_link": true
    },
    "kernelspec": {
      "display_name": "Python 3",
      "language": "python",
      "name": "python3"
    },
    "language_info": {
      "codemirror_mode": {
        "name": "ipython",
        "version": 3
      },
      "file_extension": ".py",
      "mimetype": "text/x-python",
      "name": "python",
      "nbconvert_exporter": "python",
      "pygments_lexer": "ipython3",
      "version": "3.7.0"
    }
  },
  "nbformat": 4,
  "nbformat_minor": 0
}